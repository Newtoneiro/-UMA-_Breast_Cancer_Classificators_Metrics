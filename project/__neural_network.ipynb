{
  "cells": [
    {
      "attachments": {},
      "cell_type": "markdown",
      "metadata": {},
      "source": [
        "## Imports"
      ]
    },
    {
      "cell_type": "code",
      "execution_count": 54,
      "metadata": {},
      "outputs": [],
      "source": [
        "import torch.nn as nn\n",
        "from data.Data import Data\n",
        "import torch\n",
        "import numpy as np\n",
        "import torch.optim as optim"
      ]
    },
    {
      "attachments": {},
      "cell_type": "markdown",
      "metadata": {},
      "source": [
        "## SEED"
      ]
    },
    {
      "cell_type": "code",
      "execution_count": 55,
      "metadata": {},
      "outputs": [
        {
          "name": "stdout",
          "output_type": "stream",
          "text": [
            "SEED: 7532\n"
          ]
        }
      ],
      "source": [
        "import random\n",
        "\n",
        "SEED = None\n",
        "if not SEED:\n",
        "  SEED = random.randint(0, 10000)\n",
        "print(f\"SEED: {SEED}\")\n",
        "\n",
        "np.random.seed(seed=SEED)\n",
        "random.seed(SEED)"
      ]
    },
    {
      "attachments": {},
      "cell_type": "markdown",
      "metadata": {},
      "source": [
        "## Datasets"
      ]
    },
    {
      "cell_type": "code",
      "execution_count": 56,
      "metadata": {},
      "outputs": [],
      "source": [
        "dataset = \"breast-cancer\"\n",
        "COLUMNS_FOR_BREAST_CANCER = ['node-caps', 'inv-nodes', 'tumor-size', 'deg-malig', 'irradiat', 'class']"
      ]
    },
    {
      "cell_type": "code",
      "execution_count": 57,
      "metadata": {},
      "outputs": [],
      "source": [
        "distinct_columns = None\n",
        "if dataset == \"breast-cancer\":\n",
        "  distinct_columns = COLUMNS_FOR_BREAST_CANCER\n",
        "\n",
        "data = Data(dataset, distinct_columns=distinct_columns)"
      ]
    },
    {
      "attachments": {},
      "cell_type": "markdown",
      "metadata": {},
      "source": [
        "## Train, evaluate, test datasets"
      ]
    },
    {
      "cell_type": "code",
      "execution_count": 58,
      "metadata": {},
      "outputs": [],
      "source": [
        "train, test = data.get_train_and_valid_set(0.7)\n",
        "train_x = train.drop('class', axis=1)\n",
        "train_y = train['class']\n",
        "\n",
        "test_x = test.drop('class', axis=1)\n",
        "test_y = test['class']"
      ]
    },
    {
      "cell_type": "code",
      "execution_count": 59,
      "metadata": {},
      "outputs": [],
      "source": [
        "NUMBER_INPUTS = train_x.shape[1]"
      ]
    },
    {
      "cell_type": "code",
      "execution_count": 60,
      "metadata": {},
      "outputs": [
        {
          "name": "stdout",
          "output_type": "stream",
          "text": [
            "train_0: 141, train_1: 59\n",
            "test_0: 60, test_1: 26\n"
          ]
        }
      ],
      "source": [
        "print(f\"train_0: {len(train[train['class'] == 0])}, train_1: {len(train[train['class'] == 1])}\")\n",
        "print(f\"test_0: {len(test[test['class'] == 0])}, test_1: {len(test[test['class'] == 1])}\")"
      ]
    },
    {
      "attachments": {},
      "cell_type": "markdown",
      "metadata": {},
      "source": [
        "## Data loaders"
      ]
    },
    {
      "cell_type": "code",
      "execution_count": 61,
      "metadata": {},
      "outputs": [],
      "source": [
        "BATCH_SIZE = 64\n",
        "\n",
        "def one_hot_class(dataset):\n",
        "  dataset = np.array(dataset)\n",
        "  return torch.tensor([[int(i == x) for i in range(2)] for x in dataset])\n",
        "\n",
        "train_dataset = torch.utils.data.TensorDataset(torch.from_numpy(np.array(train_x)), one_hot_class(train_y))\n",
        "test_dataset = torch.utils.data.TensorDataset(torch.from_numpy(np.array(test_x)), torch.from_numpy(np.array(test_y)))"
      ]
    },
    {
      "attachments": {},
      "cell_type": "markdown",
      "metadata": {},
      "source": [
        "## Sampling data because of imbalance"
      ]
    },
    {
      "cell_type": "code",
      "execution_count": 62,
      "metadata": {},
      "outputs": [],
      "source": [
        "from torch.utils.data import WeightedRandomSampler\n",
        "\n",
        "classes = {0: 0.2, 1: 0.6}\n",
        "y_classified = [int(np.argmax(y)) for _, y in train_dataset]\n",
        "example_weights = [classes[e] for e in y_classified]\n",
        "\n",
        "sampler = WeightedRandomSampler(example_weights, len(train_dataset))"
      ]
    },
    {
      "cell_type": "code",
      "execution_count": 63,
      "metadata": {},
      "outputs": [],
      "source": [
        "train_data_loader = torch.utils.data.DataLoader(train_dataset, batch_size=BATCH_SIZE, sampler=sampler)"
      ]
    },
    {
      "attachments": {},
      "cell_type": "markdown",
      "metadata": {},
      "source": [
        "## Hyperparameter tuning"
      ]
    },
    {
      "cell_type": "code",
      "execution_count": 64,
      "metadata": {},
      "outputs": [],
      "source": [
        "import optuna"
      ]
    },
    {
      "cell_type": "code",
      "execution_count": 65,
      "metadata": {},
      "outputs": [],
      "source": [
        "def define_model(trial):\n",
        "    n_layers = trial.suggest_int(\"n_layers\", 1, 3)\n",
        "    layers = []\n",
        "    \n",
        "    in_features = NUMBER_INPUTS\n",
        "    for i in range(n_layers):\n",
        "        out_features = trial.suggest_int(\"n_units_l{}\".format(i), 50, 1000)\n",
        "        layers.append(nn.Linear(in_features, out_features))\n",
        "        layers.append(nn.BatchNorm1d(out_features))\n",
        "        layers.append(nn.ReLU())\n",
        "        p = trial.suggest_uniform(\"dropout_l{}\".format(i), 0.2, 0.5)\n",
        "        layers.append(nn.Dropout(p))\n",
        "\n",
        "        in_features = out_features\n",
        "    layers.append(nn.Linear(in_features, 2))\n",
        "\n",
        "    return nn.Sequential(*layers)\n",
        "    \n",
        "    "
      ]
    },
    {
      "attachments": {},
      "cell_type": "markdown",
      "metadata": {},
      "source": [
        "## ==== Evaluate model function ===="
      ]
    },
    {
      "cell_type": "code",
      "execution_count": 66,
      "metadata": {},
      "outputs": [],
      "source": [
        "models_dir = './model_saves/nn_models_saves/'\n",
        "\n",
        "def get_accuracy(model, test_dataset, save_if_good=False):\n",
        "  true_preds, num_preds = 0., 0.\n",
        "\n",
        "  model.eval()\n",
        "  with torch.no_grad(): # Deactivate gradients for the following code\n",
        "      for inputs, labels in test_dataset:\n",
        "          inputs = torch.transpose(torch.tensor(inputs).unsqueeze(1), 0, 1)\n",
        "          preds = model(inputs.float())\n",
        "          preds = torch.sigmoid(preds)\n",
        "          preds = preds.numpy()\n",
        "          preds = preds.squeeze()\n",
        "\n",
        "          preds = [int (x == max(preds)) for x in preds]\n",
        "          true_preds += (np.argmax(preds)) == np.argmax(labels.numpy()).sum()\n",
        "          num_preds += 1\n",
        "\n",
        "  acc = true_preds / num_preds\n",
        "  if save_if_good and acc > 0.8:\n",
        "     torch.save(model, f\"{models_dir}model_{dataset}_{acc:4.2f}.pt\")\n",
        "  return acc"
      ]
    },
    {
      "cell_type": "code",
      "execution_count": 67,
      "metadata": {},
      "outputs": [],
      "source": [
        "def objective(trial):\n",
        "    # Generate the model.\n",
        "    model = define_model(trial)\n",
        "\n",
        "    # Generate the optimizers.\n",
        "    optimizer_name = trial.suggest_categorical(\"optimizer\", [\"Adam\", \"RMSprop\", \"SGD\"])\n",
        "    lr = trial.suggest_float(\"lr\", 1e-5, 1e-1, log=True)\n",
        "    MSELoss = nn.MSELoss()\n",
        "    optimizer = getattr(optim, optimizer_name)(model.parameters(), lr=lr)\n",
        "\n",
        "    NUMBER_EPOCHS = trial.suggest_int(\"number_epochs\", 5, 150)\n",
        "    model.train()\n",
        "    for epoch in range(NUMBER_EPOCHS):  # loop over the dataset multiple times\n",
        "        for inputs, labels in train_data_loader:\n",
        "            # get the inputs; data is a list of [inputs, labels]\n",
        "\n",
        "            # zero the parameter gradients\n",
        "            optimizer.zero_grad()\n",
        "\n",
        "            # forward + backward + optimize\n",
        "            preds = model(inputs.float())\n",
        "            preds = torch.sigmoid(preds)\n",
        "            loss = MSELoss(preds, labels.float())\n",
        "            \n",
        "            loss.backward()\n",
        "            optimizer.step()\n",
        "    \n",
        "    return get_accuracy(model=model, test_dataset=test_dataset, save_if_good=True)\n",
        "    "
      ]
    },
    {
      "cell_type": "code",
      "execution_count": 68,
      "metadata": {},
      "outputs": [
        {
          "name": "stderr",
          "output_type": "stream",
          "text": [
            "[I 2023-06-13 10:23:25,326] A new study created in memory with name: no-name-4fea6719-16ee-40f4-b85e-06a808a8e6a1\n"
          ]
        },
        {
          "data": {
            "application/vnd.jupyter.widget-view+json": {
              "model_id": "585b7d7b32c2446689cd20668bd5fd7a",
              "version_major": 2,
              "version_minor": 0
            },
            "text/plain": [
              "  0%|          | 0/100 [00:00<?, ?it/s]"
            ]
          },
          "metadata": {},
          "output_type": "display_data"
        },
        {
          "name": "stderr",
          "output_type": "stream",
          "text": [
            "C:\\Users\\User\\AppData\\Local\\Temp/ipykernel_23060/3653047830.py:11: FutureWarning:\n",
            "\n",
            "suggest_uniform has been deprecated in v3.0.0. This feature will be removed in v6.0.0. See https://github.com/optuna/optuna/releases/tag/v3.0.0. Use suggest_float instead.\n",
            "\n",
            "C:\\Users\\User\\AppData\\Local\\Temp/ipykernel_23060/2870069813.py:9: UserWarning:\n",
            "\n",
            "To copy construct from a tensor, it is recommended to use sourceTensor.clone().detach() or sourceTensor.clone().detach().requires_grad_(True), rather than torch.tensor(sourceTensor).\n",
            "\n"
          ]
        },
        {
          "name": "stdout",
          "output_type": "stream",
          "text": [
            "[I 2023-06-13 10:23:26,021] Trial 0 finished with value: 0.47674418604651164 and parameters: {'n_layers': 3, 'n_units_l0': 690, 'dropout_l0': 0.3422635918777778, 'n_units_l1': 113, 'dropout_l1': 0.44374656239806165, 'n_units_l2': 194, 'dropout_l2': 0.31985909744183727, 'optimizer': 'RMSprop', 'lr': 5.169961738133986e-05, 'number_epochs': 27}. Best is trial 0 with value: 0.47674418604651164.\n",
            "[I 2023-06-13 10:23:27,013] Trial 1 finished with value: 0.5813953488372093 and parameters: {'n_layers': 2, 'n_units_l0': 634, 'dropout_l0': 0.3116059777358236, 'n_units_l1': 576, 'dropout_l1': 0.30894082151990937, 'optimizer': 'RMSprop', 'lr': 0.0013944207581020186, 'number_epochs': 39}. Best is trial 1 with value: 0.5813953488372093.\n",
            "[I 2023-06-13 10:23:30,273] Trial 2 finished with value: 0.38372093023255816 and parameters: {'n_layers': 3, 'n_units_l0': 922, 'dropout_l0': 0.4683463568367692, 'n_units_l1': 312, 'dropout_l1': 0.36740101462538916, 'n_units_l2': 795, 'dropout_l2': 0.33022110917258307, 'optimizer': 'RMSprop', 'lr': 0.028182533053781388, 'number_epochs': 102}. Best is trial 1 with value: 0.5813953488372093.\n",
            "[I 2023-06-13 10:23:31,798] Trial 3 finished with value: 0.43023255813953487 and parameters: {'n_layers': 2, 'n_units_l0': 54, 'dropout_l0': 0.2898140414090374, 'n_units_l1': 993, 'dropout_l1': 0.42044859067683604, 'optimizer': 'Adam', 'lr': 2.3623760746062357e-05, 'number_epochs': 94}. Best is trial 1 with value: 0.5813953488372093.\n",
            "[I 2023-06-13 10:23:33,948] Trial 4 finished with value: 0.4883720930232558 and parameters: {'n_layers': 2, 'n_units_l0': 795, 'dropout_l0': 0.48043871322629184, 'n_units_l1': 456, 'dropout_l1': 0.25723552455296744, 'optimizer': 'RMSprop', 'lr': 8.023821663463304e-05, 'number_epochs': 97}. Best is trial 1 with value: 0.5813953488372093.\n",
            "[I 2023-06-13 10:23:35,102] Trial 5 finished with value: 0.43023255813953487 and parameters: {'n_layers': 1, 'n_units_l0': 890, 'dropout_l0': 0.30639148988436216, 'optimizer': 'RMSprop', 'lr': 0.0002663385727747775, 'number_epochs': 129}. Best is trial 1 with value: 0.5813953488372093.\n",
            "[I 2023-06-13 10:23:36,606] Trial 6 finished with value: 0.46511627906976744 and parameters: {'n_layers': 1, 'n_units_l0': 359, 'dropout_l0': 0.2355240337908119, 'optimizer': 'SGD', 'lr': 0.0016956727691720816, 'number_epochs': 131}. Best is trial 1 with value: 0.5813953488372093.\n",
            "[I 2023-06-13 10:23:37,149] Trial 7 finished with value: 0.47674418604651164 and parameters: {'n_layers': 3, 'n_units_l0': 70, 'dropout_l0': 0.2202427085917768, 'n_units_l1': 421, 'dropout_l1': 0.348114930867033, 'n_units_l2': 593, 'dropout_l2': 0.3747507728731091, 'optimizer': 'RMSprop', 'lr': 1.668299830312585e-05, 'number_epochs': 18}. Best is trial 1 with value: 0.5813953488372093.\n",
            "[I 2023-06-13 10:23:37,808] Trial 8 finished with value: 0.3953488372093023 and parameters: {'n_layers': 2, 'n_units_l0': 716, 'dropout_l0': 0.37070160417625, 'n_units_l1': 520, 'dropout_l1': 0.2891778622378086, 'optimizer': 'RMSprop', 'lr': 7.93993244919266e-05, 'number_epochs': 25}. Best is trial 1 with value: 0.5813953488372093.\n",
            "[I 2023-06-13 10:23:39,492] Trial 9 finished with value: 0.5232558139534884 and parameters: {'n_layers': 3, 'n_units_l0': 264, 'dropout_l0': 0.31356593871330674, 'n_units_l1': 722, 'dropout_l1': 0.2654266725751448, 'n_units_l2': 300, 'dropout_l2': 0.26784360028281196, 'optimizer': 'SGD', 'lr': 0.019311790345511986, 'number_epochs': 99}. Best is trial 1 with value: 0.5813953488372093.\n",
            "[I 2023-06-13 10:23:40,114] Trial 10 finished with value: 0.38372093023255816 and parameters: {'n_layers': 1, 'n_units_l0': 522, 'dropout_l0': 0.39917386961953294, 'optimizer': 'Adam', 'lr': 0.0018900217759270906, 'number_epochs': 63}. Best is trial 1 with value: 0.5813953488372093.\n",
            "[I 2023-06-13 10:23:40,889] Trial 11 finished with value: 0.4069767441860465 and parameters: {'n_layers': 2, 'n_units_l0': 322, 'dropout_l0': 0.2982775200139523, 'n_units_l1': 809, 'dropout_l1': 0.20727976457199443, 'optimizer': 'SGD', 'lr': 0.016006021690486535, 'number_epochs': 55}. Best is trial 1 with value: 0.5813953488372093.\n",
            "[I 2023-06-13 10:23:41,983] Trial 12 finished with value: 0.45348837209302323 and parameters: {'n_layers': 3, 'n_units_l0': 486, 'dropout_l0': 0.26028894587440266, 'n_units_l1': 741, 'dropout_l1': 0.2793929819519399, 'n_units_l2': 136, 'dropout_l2': 0.20770738810299272, 'optimizer': 'SGD', 'lr': 0.09014339290929681, 'number_epochs': 51}. Best is trial 1 with value: 0.5813953488372093.\n",
            "[I 2023-06-13 10:23:42,947] Trial 13 finished with value: 0.5 and parameters: {'n_layers': 2, 'n_units_l0': 252, 'dropout_l0': 0.33370159863113075, 'n_units_l1': 704, 'dropout_l1': 0.3242726488115609, 'optimizer': 'SGD', 'lr': 0.004845751563592369, 'number_epochs': 79}. Best is trial 1 with value: 0.5813953488372093.\n",
            "[I 2023-06-13 10:23:45,576] Trial 14 finished with value: 0.47674418604651164 and parameters: {'n_layers': 3, 'n_units_l0': 639, 'dropout_l0': 0.2071930186346032, 'n_units_l1': 652, 'dropout_l1': 0.22465232812429578, 'n_units_l2': 393, 'dropout_l2': 0.4989253874868236, 'optimizer': 'SGD', 'lr': 0.0004659809423210206, 'number_epochs': 116}. Best is trial 1 with value: 0.5813953488372093.\n",
            "[I 2023-06-13 10:23:46,951] Trial 15 finished with value: 0.5697674418604651 and parameters: {'n_layers': 2, 'n_units_l0': 201, 'dropout_l0': 0.2709384368712173, 'n_units_l1': 923, 'dropout_l1': 0.30771292805346806, 'optimizer': 'Adam', 'lr': 0.005969706066623345, 'number_epochs': 77}. Best is trial 1 with value: 0.5813953488372093.\n",
            "[I 2023-06-13 10:23:48,389] Trial 16 finished with value: 0.5116279069767442 and parameters: {'n_layers': 2, 'n_units_l0': 453, 'dropout_l0': 0.26353245406942144, 'n_units_l1': 996, 'dropout_l1': 0.3199890054869319, 'optimizer': 'Adam', 'lr': 0.005028237424958939, 'number_epochs': 46}. Best is trial 1 with value: 0.5813953488372093.\n",
            "[I 2023-06-13 10:23:48,497] Trial 17 finished with value: 0.3953488372093023 and parameters: {'n_layers': 1, 'n_units_l0': 628, 'dropout_l0': 0.26555208375926387, 'optimizer': 'Adam', 'lr': 0.0004985227898421579, 'number_epochs': 6}. Best is trial 1 with value: 0.5813953488372093.\n",
            "[I 2023-06-13 10:23:49,800] Trial 18 finished with value: 0.43023255813953487 and parameters: {'n_layers': 2, 'n_units_l0': 174, 'dropout_l0': 0.36432920633852617, 'n_units_l1': 892, 'dropout_l1': 0.37869944265703737, 'optimizer': 'Adam', 'lr': 0.004355500449283975, 'number_epochs': 77}. Best is trial 1 with value: 0.5813953488372093.\n",
            "[I 2023-06-13 10:23:51,162] Trial 19 finished with value: 0.47674418604651164 and parameters: {'n_layers': 1, 'n_units_l0': 397, 'dropout_l0': 0.2023588258947333, 'optimizer': 'Adam', 'lr': 0.0012993698142122073, 'number_epochs': 149}. Best is trial 1 with value: 0.5813953488372093.\n",
            "[I 2023-06-13 10:23:51,947] Trial 20 finished with value: 0.46511627906976744 and parameters: {'n_layers': 2, 'n_units_l0': 819, 'dropout_l0': 0.25267127708921433, 'n_units_l1': 272, 'dropout_l1': 0.495470353616033, 'optimizer': 'RMSprop', 'lr': 0.0006592581738382683, 'number_epochs': 43}. Best is trial 1 with value: 0.5813953488372093.\n",
            "[I 2023-06-13 10:23:52,866] Trial 21 finished with value: 0.46511627906976744 and parameters: {'n_layers': 2, 'n_units_l0': 184, 'dropout_l0': 0.3167977602716153, 'n_units_l1': 605, 'dropout_l1': 0.25425793510733513, 'optimizer': 'SGD', 'lr': 0.017670182611231416, 'number_epochs': 74}. Best is trial 1 with value: 0.5813953488372093.\n",
            "[I 2023-06-13 10:23:56,803] Trial 22 finished with value: 0.5813953488372093 and parameters: {'n_layers': 3, 'n_units_l0': 246, 'dropout_l0': 0.2839832147314005, 'n_units_l1': 792, 'dropout_l1': 0.30160199930627435, 'n_units_l2': 969, 'dropout_l2': 0.20440922568922296, 'optimizer': 'Adam', 'lr': 0.007362642968015747, 'number_epochs': 85}. Best is trial 1 with value: 0.5813953488372093.\n",
            "[I 2023-06-13 10:23:58,823] Trial 23 finished with value: 0.5 and parameters: {'n_layers': 2, 'n_units_l0': 583, 'dropout_l0': 0.2863971831533307, 'n_units_l1': 852, 'dropout_l1': 0.3038193699695033, 'optimizer': 'Adam', 'lr': 0.0030452779876340257, 'number_epochs': 67}. Best is trial 1 with value: 0.5813953488372093.\n",
            "[I 2023-06-13 10:24:03,028] Trial 24 finished with value: 0.45348837209302323 and parameters: {'n_layers': 3, 'n_units_l0': 155, 'dropout_l0': 0.2325549782853929, 'n_units_l1': 899, 'dropout_l1': 0.3270961134351716, 'n_units_l2': 974, 'dropout_l2': 0.20755290650959204, 'optimizer': 'Adam', 'lr': 0.007612858450176695, 'number_epochs': 84}. Best is trial 1 with value: 0.5813953488372093.\n",
            "[I 2023-06-13 10:24:03,839] Trial 25 finished with value: 0.6046511627906976 and parameters: {'n_layers': 2, 'n_units_l0': 430, 'dropout_l0': 0.27615966234994616, 'n_units_l1': 584, 'dropout_l1': 0.30012736272593743, 'optimizer': 'Adam', 'lr': 0.0026572695025719717, 'number_epochs': 37}. Best is trial 25 with value: 0.6046511627906976.\n",
            "[I 2023-06-13 10:24:04,573] Trial 26 finished with value: 0.6976744186046512 and parameters: {'n_layers': 2, 'n_units_l0': 398, 'dropout_l0': 0.2847728904067785, 'n_units_l1': 559, 'dropout_l1': 0.2923977667677792, 'optimizer': 'Adam', 'lr': 0.002288854743407274, 'number_epochs': 36}. Best is trial 26 with value: 0.6976744186046512.\n",
            "[I 2023-06-13 10:24:05,451] Trial 27 finished with value: 0.5581395348837209 and parameters: {'n_layers': 2, 'n_units_l0': 400, 'dropout_l0': 0.23934466219491604, 'n_units_l1': 577, 'dropout_l1': 0.24202619060882646, 'optimizer': 'Adam', 'lr': 0.0011051306427897214, 'number_epochs': 42}. Best is trial 26 with value: 0.6976744186046512.\n",
            "[I 2023-06-13 10:24:06,168] Trial 28 finished with value: 0.6046511627906976 and parameters: {'n_layers': 2, 'n_units_l0': 557, 'dropout_l0': 0.3230036902042824, 'n_units_l1': 495, 'dropout_l1': 0.27781068156276845, 'optimizer': 'RMSprop', 'lr': 0.0019502947752299534, 'number_epochs': 32}. Best is trial 26 with value: 0.6976744186046512.\n",
            "[I 2023-06-13 10:24:06,457] Trial 29 finished with value: 0.627906976744186 and parameters: {'n_layers': 1, 'n_units_l0': 560, 'dropout_l0': 0.33962148989707763, 'optimizer': 'RMSprop', 'lr': 0.002444728499305528, 'number_epochs': 29}. Best is trial 26 with value: 0.6976744186046512.\n",
            "[I 2023-06-13 10:24:06,579] Trial 30 finished with value: 0.38372093023255816 and parameters: {'n_layers': 1, 'n_units_l0': 459, 'dropout_l0': 0.3379767645980897, 'optimizer': 'Adam', 'lr': 0.002482356177700907, 'number_epochs': 6}. Best is trial 26 with value: 0.6976744186046512.\n",
            "[I 2023-06-13 10:24:06,886] Trial 31 finished with value: 0.45348837209302323 and parameters: {'n_layers': 1, 'n_units_l0': 558, 'dropout_l0': 0.3312128915555327, 'optimizer': 'RMSprop', 'lr': 0.0027577268674221027, 'number_epochs': 30}. Best is trial 26 with value: 0.6976744186046512.\n",
            "[I 2023-06-13 10:24:07,550] Trial 32 finished with value: 0.5465116279069767 and parameters: {'n_layers': 2, 'n_units_l0': 704, 'dropout_l0': 0.3564743708140662, 'n_units_l1': 378, 'dropout_l1': 0.269303721529491, 'optimizer': 'RMSprop', 'lr': 0.0008579473716030542, 'number_epochs': 32}. Best is trial 26 with value: 0.6976744186046512.\n",
            "[I 2023-06-13 10:24:07,763] Trial 33 finished with value: 0.627906976744186 and parameters: {'n_layers': 1, 'n_units_l0': 530, 'dropout_l0': 0.31948641945897416, 'optimizer': 'RMSprop', 'lr': 0.0018768463279525058, 'number_epochs': 20}. Best is trial 26 with value: 0.6976744186046512.\n",
            "[I 2023-06-13 10:24:08,016] Trial 34 finished with value: 0.4186046511627907 and parameters: {'n_layers': 1, 'n_units_l0': 420, 'dropout_l0': 0.29456197626636244, 'optimizer': 'RMSprop', 'lr': 0.0010530340559223928, 'number_epochs': 17}. Best is trial 26 with value: 0.6976744186046512.\n",
            "[I 2023-06-13 10:24:08,194] Trial 35 finished with value: 0.45348837209302323 and parameters: {'n_layers': 1, 'n_units_l0': 324, 'dropout_l0': 0.3440456442742192, 'optimizer': 'RMSprop', 'lr': 0.0033443796334660246, 'number_epochs': 17}. Best is trial 26 with value: 0.6976744186046512.\n",
            "[I 2023-06-13 10:24:08,713] Trial 36 finished with value: 0.38372093023255816 and parameters: {'n_layers': 1, 'n_units_l0': 495, 'dropout_l0': 0.3030130488946006, 'optimizer': 'RMSprop', 'lr': 0.0003348393468291778, 'number_epochs': 56}. Best is trial 26 with value: 0.6976744186046512.\n",
            "[I 2023-06-13 10:24:08,963] Trial 37 finished with value: 0.5465116279069767 and parameters: {'n_layers': 1, 'n_units_l0': 605, 'dropout_l0': 0.2776016069991267, 'optimizer': 'RMSprop', 'lr': 0.0015672558684935807, 'number_epochs': 23}. Best is trial 26 with value: 0.6976744186046512.\n",
            "[I 2023-06-13 10:24:09,358] Trial 38 finished with value: 0.47674418604651164 and parameters: {'n_layers': 1, 'n_units_l0': 745, 'dropout_l0': 0.32067463221838965, 'optimizer': 'Adam', 'lr': 0.0002167953940035798, 'number_epochs': 36}. Best is trial 26 with value: 0.6976744186046512.\n",
            "[I 2023-06-13 10:24:09,538] Trial 39 finished with value: 0.47674418604651164 and parameters: {'n_layers': 1, 'n_units_l0': 660, 'dropout_l0': 0.3045006540793814, 'optimizer': 'RMSprop', 'lr': 0.000799314494555505, 'number_epochs': 13}. Best is trial 26 with value: 0.6976744186046512.\n",
            "[I 2023-06-13 10:24:09,841] Trial 40 finished with value: 0.5 and parameters: {'n_layers': 1, 'n_units_l0': 345, 'dropout_l0': 0.2883888325968837, 'optimizer': 'RMSprop', 'lr': 0.011038550270540294, 'number_epochs': 24}. Best is trial 26 with value: 0.6976744186046512.\n",
            "[I 2023-06-13 10:24:10,498] Trial 41 finished with value: 0.16279069767441862 and parameters: {'n_layers': 2, 'n_units_l0': 522, 'dropout_l0': 0.32231615915107503, 'n_units_l1': 474, 'dropout_l1': 0.2836834103373534, 'optimizer': 'RMSprop', 'lr': 0.0020740393037637136, 'number_epochs': 36}. Best is trial 26 with value: 0.6976744186046512.\n",
            "[I 2023-06-13 10:24:10,963] Trial 42 finished with value: 0.5116279069767442 and parameters: {'n_layers': 2, 'n_units_l0': 564, 'dropout_l0': 0.34903222746050044, 'n_units_l1': 207, 'dropout_l1': 0.279293877110051, 'optimizer': 'RMSprop', 'lr': 0.0017206482015591745, 'number_epochs': 30}. Best is trial 26 with value: 0.6976744186046512.\n",
            "[I 2023-06-13 10:24:11,785] Trial 43 finished with value: 0.8488372093023255 and parameters: {'n_layers': 2, 'n_units_l0': 435, 'dropout_l0': 0.37266774325989, 'n_units_l1': 519, 'dropout_l1': 0.23654368123432648, 'optimizer': 'RMSprop', 'lr': 0.0028440828964250227, 'number_epochs': 49}. Best is trial 43 with value: 0.8488372093023255.\n",
            "[I 2023-06-13 10:24:12,889] Trial 44 finished with value: 0.4883720930232558 and parameters: {'n_layers': 2, 'n_units_l0': 447, 'dropout_l0': 0.38667070220967326, 'n_units_l1': 649, 'dropout_l1': 0.20575833455440123, 'optimizer': 'RMSprop', 'lr': 0.0038874394878226403, 'number_epochs': 49}. Best is trial 43 with value: 0.8488372093023255.\n",
            "[I 2023-06-13 10:24:13,407] Trial 45 finished with value: 0.5348837209302325 and parameters: {'n_layers': 2, 'n_units_l0': 396, 'dropout_l0': 0.3766031183803872, 'n_units_l1': 91, 'dropout_l1': 0.23717751141521665, 'optimizer': 'RMSprop', 'lr': 0.0031170250379217277, 'number_epochs': 39}. Best is trial 43 with value: 0.8488372093023255.\n",
            "[I 2023-06-13 10:24:13,796] Trial 46 finished with value: 0.47674418604651164 and parameters: {'n_layers': 2, 'n_units_l0': 965, 'dropout_l0': 0.40649454164757204, 'n_units_l1': 354, 'dropout_l1': 0.23489932998799204, 'optimizer': 'Adam', 'lr': 0.00920516824337437, 'number_epochs': 12}. Best is trial 43 with value: 0.8488372093023255.\n",
            "[I 2023-06-13 10:24:14,298] Trial 47 finished with value: 0.5232558139534884 and parameters: {'n_layers': 1, 'n_units_l0': 506, 'dropout_l0': 0.30932135371658165, 'optimizer': 'RMSprop', 'lr': 0.0012179033944247808, 'number_epochs': 52}. Best is trial 43 with value: 0.8488372093023255.\n",
            "[I 2023-06-13 10:24:15,438] Trial 48 finished with value: 0.5232558139534884 and parameters: {'n_layers': 3, 'n_units_l0': 288, 'dropout_l0': 0.27827007606697224, 'n_units_l1': 192, 'dropout_l1': 0.21774340162816463, 'n_units_l2': 641, 'dropout_l2': 0.4332134087021511, 'optimizer': 'RMSprop', 'lr': 0.005566360973094631, 'number_epochs': 63}. Best is trial 43 with value: 0.8488372093023255.\n",
            "[I 2023-06-13 10:24:15,976] Trial 49 finished with value: 0.6046511627906976 and parameters: {'n_layers': 2, 'n_units_l0': 369, 'dropout_l0': 0.3535760481847182, 'n_units_l1': 546, 'dropout_l1': 0.2546770012227519, 'optimizer': 'Adam', 'lr': 0.0021864193752385097, 'number_epochs': 22}. Best is trial 43 with value: 0.8488372093023255.\n",
            "[I 2023-06-13 10:24:16,886] Trial 50 finished with value: 0.47674418604651164 and parameters: {'n_layers': 2, 'n_units_l0': 454, 'dropout_l0': 0.3003972479907537, 'n_units_l1': 624, 'dropout_l1': 0.34692624515918247, 'optimizer': 'SGD', 'lr': 0.004124715771062779, 'number_epochs': 58}. Best is trial 43 with value: 0.8488372093023255.\n",
            "[I 2023-06-13 10:24:17,653] Trial 51 finished with value: 0.5930232558139535 and parameters: {'n_layers': 2, 'n_units_l0': 557, 'dropout_l0': 0.32722446374679753, 'n_units_l1': 506, 'dropout_l1': 0.29099928530455454, 'optimizer': 'RMSprop', 'lr': 0.0017239056641276025, 'number_epochs': 35}. Best is trial 43 with value: 0.8488372093023255.\n",
            "[I 2023-06-13 10:24:18,170] Trial 52 finished with value: 0.5232558139534884 and parameters: {'n_layers': 2, 'n_units_l0': 535, 'dropout_l0': 0.3417277327928685, 'n_units_l1': 455, 'dropout_l1': 0.24624481289639788, 'optimizer': 'RMSprop', 'lr': 0.002388804814811543, 'number_epochs': 26}. Best is trial 43 with value: 0.8488372093023255.\n",
            "[I 2023-06-13 10:24:19,005] Trial 53 finished with value: 0.6627906976744186 and parameters: {'n_layers': 2, 'n_units_l0': 590, 'dropout_l0': 0.3128392949871093, 'n_units_l1': 401, 'dropout_l1': 0.2676236072214431, 'optimizer': 'RMSprop', 'lr': 0.0013204730507198484, 'number_epochs': 47}. Best is trial 43 with value: 0.8488372093023255.\n",
            "[I 2023-06-13 10:24:19,952] Trial 54 finished with value: 0.5348837209302325 and parameters: {'n_layers': 2, 'n_units_l0': 677, 'dropout_l0': 0.2932443520436747, 'n_units_l1': 406, 'dropout_l1': 0.22297119768417642, 'optimizer': 'RMSprop', 'lr': 0.0013082065782723685, 'number_epochs': 43}. Best is trial 43 with value: 0.8488372093023255.\n",
            "[I 2023-06-13 10:24:20,716] Trial 55 finished with value: 0.37209302325581395 and parameters: {'n_layers': 2, 'n_units_l0': 615, 'dropout_l0': 0.25459878736439384, 'n_units_l1': 305, 'dropout_l1': 0.26148745622276287, 'optimizer': 'RMSprop', 'lr': 0.0034946962862687806, 'number_epochs': 46}. Best is trial 43 with value: 0.8488372093023255.\n",
            "[I 2023-06-13 10:24:21,390] Trial 56 finished with value: 0.4186046511627907 and parameters: {'n_layers': 1, 'n_units_l0': 477, 'dropout_l0': 0.31201939933005135, 'optimizer': 'Adam', 'lr': 0.0006786506815354589, 'number_epochs': 66}. Best is trial 43 with value: 0.8488372093023255.\n",
            "[I 2023-06-13 10:24:23,548] Trial 57 finished with value: 0.5232558139534884 and parameters: {'n_layers': 3, 'n_units_l0': 416, 'dropout_l0': 0.2705389536808206, 'n_units_l1': 553, 'dropout_l1': 0.26918246431795595, 'n_units_l2': 54, 'dropout_l2': 0.41523871761990677, 'optimizer': 'RMSprop', 'lr': 0.005709151330447224, 'number_epochs': 108}. Best is trial 43 with value: 0.8488372093023255.\n",
            "[I 2023-06-13 10:24:24,162] Trial 58 finished with value: 0.4883720930232558 and parameters: {'n_layers': 2, 'n_units_l0': 298, 'dropout_l0': 0.3339754212155957, 'n_units_l1': 690, 'dropout_l1': 0.29290210986260895, 'optimizer': 'Adam', 'lr': 0.0009540854164775234, 'number_epochs': 20}. Best is trial 43 with value: 0.8488372093023255.\n",
            "[I 2023-06-13 10:24:24,508] Trial 59 finished with value: 0.19767441860465115 and parameters: {'n_layers': 2, 'n_units_l0': 753, 'dropout_l0': 0.3137195407907323, 'n_units_l1': 411, 'dropout_l1': 0.2508333299926065, 'optimizer': 'SGD', 'lr': 0.0015385222106565931, 'number_epochs': 11}. Best is trial 43 with value: 0.8488372093023255.\n",
            "[I 2023-06-13 10:24:26,179] Trial 60 finished with value: 0.5581395348837209 and parameters: {'n_layers': 2, 'n_units_l0': 595, 'dropout_l0': 0.29323000891152257, 'n_units_l1': 595, 'dropout_l1': 0.26765666698614604, 'optimizer': 'Adam', 'lr': 0.004568721342912575, 'number_epochs': 48}. Best is trial 43 with value: 0.8488372093023255.\n",
            "[I 2023-06-13 10:24:27,332] Trial 61 finished with value: 0.4418604651162791 and parameters: {'n_layers': 2, 'n_units_l0': 647, 'dropout_l0': 0.3227074226040093, 'n_units_l1': 507, 'dropout_l1': 0.2832259680347242, 'optimizer': 'RMSprop', 'lr': 0.002468979425033572, 'number_epochs': 39}. Best is trial 43 with value: 0.8488372093023255.\n",
            "[I 2023-06-13 10:24:28,012] Trial 62 finished with value: 0.4069767441860465 and parameters: {'n_layers': 2, 'n_units_l0': 519, 'dropout_l0': 0.3310153085547462, 'n_units_l1': 466, 'dropout_l1': 0.23517491393048154, 'optimizer': 'RMSprop', 'lr': 0.0017563113972342442, 'number_epochs': 32}. Best is trial 43 with value: 0.8488372093023255.\n",
            "[I 2023-06-13 10:24:28,557] Trial 63 finished with value: 0.38372093023255816 and parameters: {'n_layers': 2, 'n_units_l0': 361, 'dropout_l0': 0.3081866772692163, 'n_units_l1': 347, 'dropout_l1': 0.31504328880179916, 'optimizer': 'RMSprop', 'lr': 0.002573717167992536, 'number_epochs': 28}. Best is trial 43 with value: 0.8488372093023255.\n",
            "[I 2023-06-13 10:24:29,480] Trial 64 finished with value: 0.3953488372093023 and parameters: {'n_layers': 2, 'n_units_l0': 430, 'dropout_l0': 0.36013621945824237, 'n_units_l1': 524, 'dropout_l1': 0.2750793588173794, 'optimizer': 'RMSprop', 'lr': 0.0012233423992694557, 'number_epochs': 43}. Best is trial 43 with value: 0.8488372093023255.\n",
            "[I 2023-06-13 10:24:30,867] Trial 65 finished with value: 0.4883720930232558 and parameters: {'n_layers': 2, 'n_units_l0': 479, 'dropout_l0': 0.34284253378695345, 'n_units_l1': 445, 'dropout_l1': 0.2959138237058512, 'optimizer': 'RMSprop', 'lr': 0.0035896913026413546, 'number_epochs': 59}. Best is trial 43 with value: 0.8488372093023255.\n",
            "[I 2023-06-13 10:24:31,401] Trial 66 finished with value: 0.5465116279069767 and parameters: {'n_layers': 1, 'n_units_l0': 538, 'dropout_l0': 0.31711390529546424, 'optimizer': 'RMSprop', 'lr': 0.0019893053136305285, 'number_epochs': 53}. Best is trial 43 with value: 0.8488372093023255.\n",
            "[I 2023-06-13 10:24:32,387] Trial 67 finished with value: 0.4883720930232558 and parameters: {'n_layers': 2, 'n_units_l0': 580, 'dropout_l0': 0.2827060823839411, 'n_units_l1': 672, 'dropout_l1': 0.25950880622749006, 'optimizer': 'Adam', 'lr': 0.007014366462352654, 'number_epochs': 34}. Best is trial 43 with value: 0.8488372093023255.\n",
            "[I 2023-06-13 10:24:34,310] Trial 68 finished with value: 0.22093023255813954 and parameters: {'n_layers': 3, 'n_units_l0': 383, 'dropout_l0': 0.29717295078591455, 'n_units_l1': 769, 'dropout_l1': 0.2012733617387781, 'n_units_l2': 475, 'dropout_l2': 0.2967209393965226, 'optimizer': 'SGD', 'lr': 0.0006167096401044594, 'number_epochs': 70}. Best is trial 43 with value: 0.8488372093023255.\n",
            "[I 2023-06-13 10:24:34,846] Trial 69 finished with value: 0.5116279069767442 and parameters: {'n_layers': 2, 'n_units_l0': 490, 'dropout_l0': 0.35064301682292787, 'n_units_l1': 491, 'dropout_l1': 0.3098133751692172, 'optimizer': 'RMSprop', 'lr': 0.001019166082608172, 'number_epochs': 27}. Best is trial 43 with value: 0.8488372093023255.\n",
            "[I 2023-06-13 10:24:35,050] Trial 70 finished with value: 0.5232558139534884 and parameters: {'n_layers': 1, 'n_units_l0': 678, 'dropout_l0': 0.32862947637764905, 'optimizer': 'Adam', 'lr': 0.0029613017167493365, 'number_epochs': 15}. Best is trial 43 with value: 0.8488372093023255.\n",
            "[I 2023-06-13 10:24:35,570] Trial 71 finished with value: 0.5697674418604651 and parameters: {'n_layers': 2, 'n_units_l0': 371, 'dropout_l0': 0.35368017892250725, 'n_units_l1': 557, 'dropout_l1': 0.256367888733602, 'optimizer': 'Adam', 'lr': 0.0020233599525274443, 'number_epochs': 24}. Best is trial 43 with value: 0.8488372093023255.\n",
            "[I 2023-06-13 10:24:36,038] Trial 72 finished with value: 0.47674418604651164 and parameters: {'n_layers': 2, 'n_units_l0': 328, 'dropout_l0': 0.3629688480601286, 'n_units_l1': 561, 'dropout_l1': 0.24892127811728298, 'optimizer': 'Adam', 'lr': 0.0022780192395655515, 'number_epochs': 20}. Best is trial 43 with value: 0.8488372093023255.\n",
            "[I 2023-06-13 10:24:37,118] Trial 73 finished with value: 0.5116279069767442 and parameters: {'n_layers': 2, 'n_units_l0': 435, 'dropout_l0': 0.3396909021576063, 'n_units_l1': 542, 'dropout_l1': 0.2755742608407036, 'optimizer': 'Adam', 'lr': 0.004769798464357586, 'number_epochs': 40}. Best is trial 43 with value: 0.8488372093023255.\n",
            "[I 2023-06-13 10:24:37,540] Trial 74 finished with value: 0.38372093023255816 and parameters: {'n_layers': 2, 'n_units_l0': 549, 'dropout_l0': 0.3034182165117998, 'n_units_l1': 611, 'dropout_l1': 0.28916107643391215, 'optimizer': 'Adam', 'lr': 0.003000136691598284, 'number_epochs': 10}. Best is trial 43 with value: 0.8488372093023255.\n",
            "[I 2023-06-13 10:24:38,441] Trial 75 finished with value: 0.45348837209302323 and parameters: {'n_layers': 2, 'n_units_l0': 623, 'dropout_l0': 0.36816798598218353, 'n_units_l1': 641, 'dropout_l1': 0.26345352624745677, 'optimizer': 'Adam', 'lr': 0.0016390982112570915, 'number_epochs': 21}. Best is trial 43 with value: 0.8488372093023255.\n",
            "[I 2023-06-13 10:24:39,037] Trial 76 finished with value: 0.5581395348837209 and parameters: {'n_layers': 2, 'n_units_l0': 406, 'dropout_l0': 0.3218119500774369, 'n_units_l1': 430, 'dropout_l1': 0.22915187011660448, 'optimizer': 'RMSprop', 'lr': 0.0013628161536481814, 'number_epochs': 31}. Best is trial 43 with value: 0.8488372093023255.\n",
            "[I 2023-06-13 10:24:39,160] Trial 77 finished with value: 0.3372093023255814 and parameters: {'n_layers': 1, 'n_units_l0': 503, 'dropout_l0': 0.34686488108208685, 'optimizer': 'Adam', 'lr': 0.0008495320703908953, 'number_epochs': 5}. Best is trial 43 with value: 0.8488372093023255.\n",
            "[I 2023-06-13 10:24:40,026] Trial 78 finished with value: 0.5697674418604651 and parameters: {'n_layers': 2, 'n_units_l0': 470, 'dropout_l0': 0.33783048679738725, 'n_units_l1': 594, 'dropout_l1': 0.2156425453995196, 'optimizer': 'RMSprop', 'lr': 0.0021492955811017855, 'number_epochs': 37}. Best is trial 43 with value: 0.8488372093023255.\n",
            "[I 2023-06-13 10:24:40,763] Trial 79 finished with value: 0.4883720930232558 and parameters: {'n_layers': 2, 'n_units_l0': 581, 'dropout_l0': 0.35423405299749494, 'n_units_l1': 715, 'dropout_l1': 0.2504769451119939, 'optimizer': 'RMSprop', 'lr': 0.003751292261338113, 'number_epochs': 28}. Best is trial 43 with value: 0.8488372093023255.\n",
            "[I 2023-06-13 10:24:41,253] Trial 80 finished with value: 0.37209302325581395 and parameters: {'n_layers': 1, 'n_units_l0': 345, 'dropout_l0': 0.28775559440931187, 'optimizer': 'Adam', 'lr': 0.001394289128573965, 'number_epochs': 47}. Best is trial 43 with value: 0.8488372093023255.\n",
            "[I 2023-06-13 10:24:42,090] Trial 81 finished with value: 0.4186046511627907 and parameters: {'n_layers': 2, 'n_units_l0': 556, 'dropout_l0': 0.3259359740761865, 'n_units_l1': 511, 'dropout_l1': 0.2901399540166129, 'optimizer': 'RMSprop', 'lr': 0.0015581413715049575, 'number_epochs': 36}. Best is trial 43 with value: 0.8488372093023255.\n",
            "[I 2023-06-13 10:24:42,778] Trial 82 finished with value: 0.47674418604651164 and parameters: {'n_layers': 2, 'n_units_l0': 517, 'dropout_l0': 0.33045486923541145, 'n_units_l1': 491, 'dropout_l1': 0.29770753823377993, 'optimizer': 'RMSprop', 'lr': 0.0019572609484239606, 'number_epochs': 33}. Best is trial 43 with value: 0.8488372093023255.\n",
            "[I 2023-06-13 10:24:43,494] Trial 83 finished with value: 0.4069767441860465 and parameters: {'n_layers': 2, 'n_units_l0': 457, 'dropout_l0': 0.31795459012605054, 'n_units_l1': 390, 'dropout_l1': 0.2789061196538383, 'optimizer': 'RMSprop', 'lr': 0.0027561946300540133, 'number_epochs': 42}. Best is trial 43 with value: 0.8488372093023255.\n",
            "[I 2023-06-13 10:24:44,011] Trial 84 finished with value: 0.43023255813953487 and parameters: {'n_layers': 2, 'n_units_l0': 607, 'dropout_l0': 0.3099538115030938, 'n_units_l1': 531, 'dropout_l1': 0.3026427720607636, 'optimizer': 'RMSprop', 'lr': 0.001114694218005622, 'number_epochs': 17}. Best is trial 43 with value: 0.8488372093023255.\n",
            "[I 2023-06-13 10:24:44,642] Trial 85 finished with value: 0.6162790697674418 and parameters: {'n_layers': 2, 'n_units_l0': 565, 'dropout_l0': 0.29898017748368744, 'n_units_l1': 578, 'dropout_l1': 0.32457832399993725, 'optimizer': 'RMSprop', 'lr': 0.004307732028169867, 'number_epochs': 23}. Best is trial 43 with value: 0.8488372093023255.\n",
            "[I 2023-06-13 10:24:45,441] Trial 86 finished with value: 0.2441860465116279 and parameters: {'n_layers': 2, 'n_units_l0': 636, 'dropout_l0': 0.2745692969696597, 'n_units_l1': 576, 'dropout_l1': 0.3295690221196098, 'optimizer': 'RMSprop', 'lr': 0.004199091356702797, 'number_epochs': 24}. Best is trial 43 with value: 0.8488372093023255.\n",
            "[I 2023-06-13 10:24:46,113] Trial 87 finished with value: 0.4418604651162791 and parameters: {'n_layers': 2, 'n_units_l0': 238, 'dropout_l0': 0.3000431436811708, 'n_units_l1': 632, 'dropout_l1': 0.3157197295116465, 'optimizer': 'SGD', 'lr': 0.003457633511792822, 'number_epochs': 29}. Best is trial 43 with value: 0.8488372093023255.\n",
            "[I 2023-06-13 10:24:46,572] Trial 88 finished with value: 0.4418604651162791 and parameters: {'n_layers': 2, 'n_units_l0': 384, 'dropout_l0': 0.2818339673030053, 'n_units_l1': 359, 'dropout_l1': 0.24312042614182372, 'optimizer': 'RMSprop', 'lr': 0.0053984736888512035, 'number_epochs': 21}. Best is trial 43 with value: 0.8488372093023255.\n",
            "[I 2023-06-13 10:24:47,123] Trial 89 finished with value: 0.4069767441860465 and parameters: {'n_layers': 2, 'n_units_l0': 572, 'dropout_l0': 0.26897864239807995, 'n_units_l1': 670, 'dropout_l1': 0.3347734317439459, 'optimizer': 'Adam', 'lr': 0.00666675808047106, 'number_epochs': 9}. Best is trial 43 with value: 0.8488372093023255.\n",
            "[I 2023-06-13 10:24:48,669] Trial 90 finished with value: 0.4186046511627907 and parameters: {'n_layers': 1, 'n_units_l0': 854, 'dropout_l0': 0.28989594676634867, 'optimizer': 'RMSprop', 'lr': 0.002549996878239539, 'number_epochs': 133}. Best is trial 43 with value: 0.8488372093023255.\n",
            "[I 2023-06-13 10:24:49,467] Trial 91 finished with value: 0.4883720930232558 and parameters: {'n_layers': 2, 'n_units_l0': 553, 'dropout_l0': 0.31503744483586427, 'n_units_l1': 476, 'dropout_l1': 0.3070098368438551, 'optimizer': 'RMSprop', 'lr': 0.0016661064326478163, 'number_epochs': 35}. Best is trial 43 with value: 0.8488372093023255.\n",
            "[I 2023-06-13 10:24:50,175] Trial 92 finished with value: 0.2558139534883721 and parameters: {'n_layers': 2, 'n_units_l0': 528, 'dropout_l0': 0.30438718734389064, 'n_units_l1': 437, 'dropout_l1': 0.2891479998667709, 'optimizer': 'RMSprop', 'lr': 0.002205888451178157, 'number_epochs': 40}. Best is trial 43 with value: 0.8488372093023255.\n",
            "[I 2023-06-13 10:24:51,164] Trial 93 finished with value: 0.4418604651162791 and parameters: {'n_layers': 2, 'n_units_l0': 598, 'dropout_l0': 0.3241894325622989, 'n_units_l1': 530, 'dropout_l1': 0.2719193592106416, 'optimizer': 'RMSprop', 'lr': 0.0033701902120316404, 'number_epochs': 45}. Best is trial 43 with value: 0.8488372093023255.\n",
            "[I 2023-06-13 10:24:52,236] Trial 94 finished with value: 0.5813953488372093 and parameters: {'n_layers': 2, 'n_units_l0': 500, 'dropout_l0': 0.3370474386524203, 'n_units_l1': 586, 'dropout_l1': 0.2831160561856536, 'optimizer': 'RMSprop', 'lr': 0.0017574922979863455, 'number_epochs': 50}. Best is trial 43 with value: 0.8488372093023255.\n",
            "[I 2023-06-13 10:24:52,727] Trial 95 finished with value: 0.5930232558139535 and parameters: {'n_layers': 2, 'n_units_l0': 654, 'dropout_l0': 0.2943400565756418, 'n_units_l1': 511, 'dropout_l1': 0.31905058009177134, 'optimizer': 'RMSprop', 'lr': 0.004686016126852986, 'number_epochs': 16}. Best is trial 43 with value: 0.8488372093023255.\n",
            "[I 2023-06-13 10:24:53,125] Trial 96 finished with value: 0.5930232558139535 and parameters: {'n_layers': 2, 'n_units_l0': 100, 'dropout_l0': 0.2624957600511714, 'n_units_l1': 486, 'dropout_l1': 0.26303257046614836, 'optimizer': 'RMSprop', 'lr': 0.001192434272943666, 'number_epochs': 26}. Best is trial 43 with value: 0.8488372093023255.\n",
            "[I 2023-06-13 10:24:53,663] Trial 97 finished with value: 0.47674418604651164 and parameters: {'n_layers': 2, 'n_units_l0': 295, 'dropout_l0': 0.3459322571314114, 'n_units_l1': 323, 'dropout_l1': 0.29909416577980563, 'optimizer': 'Adam', 'lr': 0.0028541393219480697, 'number_epochs': 31}. Best is trial 43 with value: 0.8488372093023255.\n",
            "[I 2023-06-13 10:24:54,256] Trial 98 finished with value: 0.36046511627906974 and parameters: {'n_layers': 2, 'n_units_l0': 441, 'dropout_l0': 0.33354462371056787, 'n_units_l1': 250, 'dropout_l1': 0.25666485397890676, 'optimizer': 'RMSprop', 'lr': 0.001943146424149348, 'number_epochs': 38}. Best is trial 43 with value: 0.8488372093023255.\n",
            "[I 2023-06-13 10:24:57,700] Trial 99 finished with value: 0.6046511627906976 and parameters: {'n_layers': 3, 'n_units_l0': 538, 'dropout_l0': 0.3120969289639949, 'n_units_l1': 557, 'dropout_l1': 0.2745190562182233, 'n_units_l2': 769, 'dropout_l2': 0.2639641847065975, 'optimizer': 'RMSprop', 'lr': 0.0009464128088554318, 'number_epochs': 90}. Best is trial 43 with value: 0.8488372093023255.\n",
            "Study statistics: \n",
            "  Number of finished trials:  100\n",
            "  Number of pruned trials:  0\n"
          ]
        }
      ],
      "source": [
        "study = optuna.create_study(direction=\"maximize\",\n",
        "                            sampler=optuna.samplers.TPESampler(seed=SEED),\n",
        "                            pruner=optuna.pruners.MedianPruner(n_warmup_steps=10))\n",
        "study.optimize(objective, n_trials=100, show_progress_bar=True)\n",
        "\n",
        "pruned_trials = [t for t in study.trials if t.state == optuna.TrialPruned]\n",
        "\n",
        "print(\"Study statistics: \")\n",
        "print(\"  Number of finished trials: \", len(study.trials))\n",
        "print(\"  Number of pruned trials: \", len(pruned_trials))"
      ]
    },
    {
      "cell_type": "code",
      "execution_count": 69,
      "metadata": {},
      "outputs": [
        {
          "name": "stdout",
          "output_type": "stream",
          "text": [
            "Best trial:\n",
            "  Value:  0.8488372093023255\n",
            "  Params: \n",
            "    n_layers: 2\n",
            "    n_units_l0: 435\n",
            "    dropout_l0: 0.37266774325989\n",
            "    n_units_l1: 519\n",
            "    dropout_l1: 0.23654368123432648\n",
            "    optimizer: RMSprop\n",
            "    lr: 0.0028440828964250227\n",
            "    number_epochs: 49\n"
          ]
        }
      ],
      "source": [
        "print(\"Best trial:\")\n",
        "trial = study.best_trial\n",
        "\n",
        "print(\"  Value: \", trial.value)\n",
        "\n",
        "print(\"  Params: \")\n",
        "for key, value in trial.params.items():\n",
        "    print(\"    {}: {}\".format(key, value))"
      ]
    },
    {
      "cell_type": "code",
      "execution_count": 70,
      "metadata": {},
      "outputs": [
        {
          "data": {
            "application/vnd.plotly.v1+json": {
              "config": {
                "plotlyServerURL": "https://plot.ly"
              },
              "data": [
                {
                  "mode": "markers",
                  "name": "Objective Value",
                  "type": "scatter",
                  "x": [
                    0,
                    1,
                    2,
                    3,
                    4,
                    5,
                    6,
                    7,
                    8,
                    9,
                    10,
                    11,
                    12,
                    13,
                    14,
                    15,
                    16,
                    17,
                    18,
                    19,
                    20,
                    21,
                    22,
                    23,
                    24,
                    25,
                    26,
                    27,
                    28,
                    29,
                    30,
                    31,
                    32,
                    33,
                    34,
                    35,
                    36,
                    37,
                    38,
                    39,
                    40,
                    41,
                    42,
                    43,
                    44,
                    45,
                    46,
                    47,
                    48,
                    49,
                    50,
                    51,
                    52,
                    53,
                    54,
                    55,
                    56,
                    57,
                    58,
                    59,
                    60,
                    61,
                    62,
                    63,
                    64,
                    65,
                    66,
                    67,
                    68,
                    69,
                    70,
                    71,
                    72,
                    73,
                    74,
                    75,
                    76,
                    77,
                    78,
                    79,
                    80,
                    81,
                    82,
                    83,
                    84,
                    85,
                    86,
                    87,
                    88,
                    89,
                    90,
                    91,
                    92,
                    93,
                    94,
                    95,
                    96,
                    97,
                    98,
                    99
                  ],
                  "y": [
                    0.47674418604651164,
                    0.5813953488372093,
                    0.38372093023255816,
                    0.43023255813953487,
                    0.4883720930232558,
                    0.43023255813953487,
                    0.46511627906976744,
                    0.47674418604651164,
                    0.3953488372093023,
                    0.5232558139534884,
                    0.38372093023255816,
                    0.4069767441860465,
                    0.45348837209302323,
                    0.5,
                    0.47674418604651164,
                    0.5697674418604651,
                    0.5116279069767442,
                    0.3953488372093023,
                    0.43023255813953487,
                    0.47674418604651164,
                    0.46511627906976744,
                    0.46511627906976744,
                    0.5813953488372093,
                    0.5,
                    0.45348837209302323,
                    0.6046511627906976,
                    0.6976744186046512,
                    0.5581395348837209,
                    0.6046511627906976,
                    0.627906976744186,
                    0.38372093023255816,
                    0.45348837209302323,
                    0.5465116279069767,
                    0.627906976744186,
                    0.4186046511627907,
                    0.45348837209302323,
                    0.38372093023255816,
                    0.5465116279069767,
                    0.47674418604651164,
                    0.47674418604651164,
                    0.5,
                    0.16279069767441862,
                    0.5116279069767442,
                    0.8488372093023255,
                    0.4883720930232558,
                    0.5348837209302325,
                    0.47674418604651164,
                    0.5232558139534884,
                    0.5232558139534884,
                    0.6046511627906976,
                    0.47674418604651164,
                    0.5930232558139535,
                    0.5232558139534884,
                    0.6627906976744186,
                    0.5348837209302325,
                    0.37209302325581395,
                    0.4186046511627907,
                    0.5232558139534884,
                    0.4883720930232558,
                    0.19767441860465115,
                    0.5581395348837209,
                    0.4418604651162791,
                    0.4069767441860465,
                    0.38372093023255816,
                    0.3953488372093023,
                    0.4883720930232558,
                    0.5465116279069767,
                    0.4883720930232558,
                    0.22093023255813954,
                    0.5116279069767442,
                    0.5232558139534884,
                    0.5697674418604651,
                    0.47674418604651164,
                    0.5116279069767442,
                    0.38372093023255816,
                    0.45348837209302323,
                    0.5581395348837209,
                    0.3372093023255814,
                    0.5697674418604651,
                    0.4883720930232558,
                    0.37209302325581395,
                    0.4186046511627907,
                    0.47674418604651164,
                    0.4069767441860465,
                    0.43023255813953487,
                    0.6162790697674418,
                    0.2441860465116279,
                    0.4418604651162791,
                    0.4418604651162791,
                    0.4069767441860465,
                    0.4186046511627907,
                    0.4883720930232558,
                    0.2558139534883721,
                    0.4418604651162791,
                    0.5813953488372093,
                    0.5930232558139535,
                    0.5930232558139535,
                    0.47674418604651164,
                    0.36046511627906974,
                    0.6046511627906976
                  ]
                },
                {
                  "name": "Best Value",
                  "type": "scatter",
                  "x": [
                    0,
                    1,
                    2,
                    3,
                    4,
                    5,
                    6,
                    7,
                    8,
                    9,
                    10,
                    11,
                    12,
                    13,
                    14,
                    15,
                    16,
                    17,
                    18,
                    19,
                    20,
                    21,
                    22,
                    23,
                    24,
                    25,
                    26,
                    27,
                    28,
                    29,
                    30,
                    31,
                    32,
                    33,
                    34,
                    35,
                    36,
                    37,
                    38,
                    39,
                    40,
                    41,
                    42,
                    43,
                    44,
                    45,
                    46,
                    47,
                    48,
                    49,
                    50,
                    51,
                    52,
                    53,
                    54,
                    55,
                    56,
                    57,
                    58,
                    59,
                    60,
                    61,
                    62,
                    63,
                    64,
                    65,
                    66,
                    67,
                    68,
                    69,
                    70,
                    71,
                    72,
                    73,
                    74,
                    75,
                    76,
                    77,
                    78,
                    79,
                    80,
                    81,
                    82,
                    83,
                    84,
                    85,
                    86,
                    87,
                    88,
                    89,
                    90,
                    91,
                    92,
                    93,
                    94,
                    95,
                    96,
                    97,
                    98,
                    99
                  ],
                  "y": [
                    0.47674418604651164,
                    0.5813953488372093,
                    0.5813953488372093,
                    0.5813953488372093,
                    0.5813953488372093,
                    0.5813953488372093,
                    0.5813953488372093,
                    0.5813953488372093,
                    0.5813953488372093,
                    0.5813953488372093,
                    0.5813953488372093,
                    0.5813953488372093,
                    0.5813953488372093,
                    0.5813953488372093,
                    0.5813953488372093,
                    0.5813953488372093,
                    0.5813953488372093,
                    0.5813953488372093,
                    0.5813953488372093,
                    0.5813953488372093,
                    0.5813953488372093,
                    0.5813953488372093,
                    0.5813953488372093,
                    0.5813953488372093,
                    0.5813953488372093,
                    0.6046511627906976,
                    0.6976744186046512,
                    0.6976744186046512,
                    0.6976744186046512,
                    0.6976744186046512,
                    0.6976744186046512,
                    0.6976744186046512,
                    0.6976744186046512,
                    0.6976744186046512,
                    0.6976744186046512,
                    0.6976744186046512,
                    0.6976744186046512,
                    0.6976744186046512,
                    0.6976744186046512,
                    0.6976744186046512,
                    0.6976744186046512,
                    0.6976744186046512,
                    0.6976744186046512,
                    0.8488372093023255,
                    0.8488372093023255,
                    0.8488372093023255,
                    0.8488372093023255,
                    0.8488372093023255,
                    0.8488372093023255,
                    0.8488372093023255,
                    0.8488372093023255,
                    0.8488372093023255,
                    0.8488372093023255,
                    0.8488372093023255,
                    0.8488372093023255,
                    0.8488372093023255,
                    0.8488372093023255,
                    0.8488372093023255,
                    0.8488372093023255,
                    0.8488372093023255,
                    0.8488372093023255,
                    0.8488372093023255,
                    0.8488372093023255,
                    0.8488372093023255,
                    0.8488372093023255,
                    0.8488372093023255,
                    0.8488372093023255,
                    0.8488372093023255,
                    0.8488372093023255,
                    0.8488372093023255,
                    0.8488372093023255,
                    0.8488372093023255,
                    0.8488372093023255,
                    0.8488372093023255,
                    0.8488372093023255,
                    0.8488372093023255,
                    0.8488372093023255,
                    0.8488372093023255,
                    0.8488372093023255,
                    0.8488372093023255,
                    0.8488372093023255,
                    0.8488372093023255,
                    0.8488372093023255,
                    0.8488372093023255,
                    0.8488372093023255,
                    0.8488372093023255,
                    0.8488372093023255,
                    0.8488372093023255,
                    0.8488372093023255,
                    0.8488372093023255,
                    0.8488372093023255,
                    0.8488372093023255,
                    0.8488372093023255,
                    0.8488372093023255,
                    0.8488372093023255,
                    0.8488372093023255,
                    0.8488372093023255,
                    0.8488372093023255,
                    0.8488372093023255,
                    0.8488372093023255
                  ]
                }
              ],
              "layout": {
                "template": {
                  "data": {
                    "bar": [
                      {
                        "error_x": {
                          "color": "#2a3f5f"
                        },
                        "error_y": {
                          "color": "#2a3f5f"
                        },
                        "marker": {
                          "line": {
                            "color": "#E5ECF6",
                            "width": 0.5
                          },
                          "pattern": {
                            "fillmode": "overlay",
                            "size": 10,
                            "solidity": 0.2
                          }
                        },
                        "type": "bar"
                      }
                    ],
                    "barpolar": [
                      {
                        "marker": {
                          "line": {
                            "color": "#E5ECF6",
                            "width": 0.5
                          },
                          "pattern": {
                            "fillmode": "overlay",
                            "size": 10,
                            "solidity": 0.2
                          }
                        },
                        "type": "barpolar"
                      }
                    ],
                    "carpet": [
                      {
                        "aaxis": {
                          "endlinecolor": "#2a3f5f",
                          "gridcolor": "white",
                          "linecolor": "white",
                          "minorgridcolor": "white",
                          "startlinecolor": "#2a3f5f"
                        },
                        "baxis": {
                          "endlinecolor": "#2a3f5f",
                          "gridcolor": "white",
                          "linecolor": "white",
                          "minorgridcolor": "white",
                          "startlinecolor": "#2a3f5f"
                        },
                        "type": "carpet"
                      }
                    ],
                    "choropleth": [
                      {
                        "colorbar": {
                          "outlinewidth": 0,
                          "ticks": ""
                        },
                        "type": "choropleth"
                      }
                    ],
                    "contour": [
                      {
                        "colorbar": {
                          "outlinewidth": 0,
                          "ticks": ""
                        },
                        "colorscale": [
                          [
                            0,
                            "#0d0887"
                          ],
                          [
                            0.1111111111111111,
                            "#46039f"
                          ],
                          [
                            0.2222222222222222,
                            "#7201a8"
                          ],
                          [
                            0.3333333333333333,
                            "#9c179e"
                          ],
                          [
                            0.4444444444444444,
                            "#bd3786"
                          ],
                          [
                            0.5555555555555556,
                            "#d8576b"
                          ],
                          [
                            0.6666666666666666,
                            "#ed7953"
                          ],
                          [
                            0.7777777777777778,
                            "#fb9f3a"
                          ],
                          [
                            0.8888888888888888,
                            "#fdca26"
                          ],
                          [
                            1,
                            "#f0f921"
                          ]
                        ],
                        "type": "contour"
                      }
                    ],
                    "contourcarpet": [
                      {
                        "colorbar": {
                          "outlinewidth": 0,
                          "ticks": ""
                        },
                        "type": "contourcarpet"
                      }
                    ],
                    "heatmap": [
                      {
                        "colorbar": {
                          "outlinewidth": 0,
                          "ticks": ""
                        },
                        "colorscale": [
                          [
                            0,
                            "#0d0887"
                          ],
                          [
                            0.1111111111111111,
                            "#46039f"
                          ],
                          [
                            0.2222222222222222,
                            "#7201a8"
                          ],
                          [
                            0.3333333333333333,
                            "#9c179e"
                          ],
                          [
                            0.4444444444444444,
                            "#bd3786"
                          ],
                          [
                            0.5555555555555556,
                            "#d8576b"
                          ],
                          [
                            0.6666666666666666,
                            "#ed7953"
                          ],
                          [
                            0.7777777777777778,
                            "#fb9f3a"
                          ],
                          [
                            0.8888888888888888,
                            "#fdca26"
                          ],
                          [
                            1,
                            "#f0f921"
                          ]
                        ],
                        "type": "heatmap"
                      }
                    ],
                    "heatmapgl": [
                      {
                        "colorbar": {
                          "outlinewidth": 0,
                          "ticks": ""
                        },
                        "colorscale": [
                          [
                            0,
                            "#0d0887"
                          ],
                          [
                            0.1111111111111111,
                            "#46039f"
                          ],
                          [
                            0.2222222222222222,
                            "#7201a8"
                          ],
                          [
                            0.3333333333333333,
                            "#9c179e"
                          ],
                          [
                            0.4444444444444444,
                            "#bd3786"
                          ],
                          [
                            0.5555555555555556,
                            "#d8576b"
                          ],
                          [
                            0.6666666666666666,
                            "#ed7953"
                          ],
                          [
                            0.7777777777777778,
                            "#fb9f3a"
                          ],
                          [
                            0.8888888888888888,
                            "#fdca26"
                          ],
                          [
                            1,
                            "#f0f921"
                          ]
                        ],
                        "type": "heatmapgl"
                      }
                    ],
                    "histogram": [
                      {
                        "marker": {
                          "pattern": {
                            "fillmode": "overlay",
                            "size": 10,
                            "solidity": 0.2
                          }
                        },
                        "type": "histogram"
                      }
                    ],
                    "histogram2d": [
                      {
                        "colorbar": {
                          "outlinewidth": 0,
                          "ticks": ""
                        },
                        "colorscale": [
                          [
                            0,
                            "#0d0887"
                          ],
                          [
                            0.1111111111111111,
                            "#46039f"
                          ],
                          [
                            0.2222222222222222,
                            "#7201a8"
                          ],
                          [
                            0.3333333333333333,
                            "#9c179e"
                          ],
                          [
                            0.4444444444444444,
                            "#bd3786"
                          ],
                          [
                            0.5555555555555556,
                            "#d8576b"
                          ],
                          [
                            0.6666666666666666,
                            "#ed7953"
                          ],
                          [
                            0.7777777777777778,
                            "#fb9f3a"
                          ],
                          [
                            0.8888888888888888,
                            "#fdca26"
                          ],
                          [
                            1,
                            "#f0f921"
                          ]
                        ],
                        "type": "histogram2d"
                      }
                    ],
                    "histogram2dcontour": [
                      {
                        "colorbar": {
                          "outlinewidth": 0,
                          "ticks": ""
                        },
                        "colorscale": [
                          [
                            0,
                            "#0d0887"
                          ],
                          [
                            0.1111111111111111,
                            "#46039f"
                          ],
                          [
                            0.2222222222222222,
                            "#7201a8"
                          ],
                          [
                            0.3333333333333333,
                            "#9c179e"
                          ],
                          [
                            0.4444444444444444,
                            "#bd3786"
                          ],
                          [
                            0.5555555555555556,
                            "#d8576b"
                          ],
                          [
                            0.6666666666666666,
                            "#ed7953"
                          ],
                          [
                            0.7777777777777778,
                            "#fb9f3a"
                          ],
                          [
                            0.8888888888888888,
                            "#fdca26"
                          ],
                          [
                            1,
                            "#f0f921"
                          ]
                        ],
                        "type": "histogram2dcontour"
                      }
                    ],
                    "mesh3d": [
                      {
                        "colorbar": {
                          "outlinewidth": 0,
                          "ticks": ""
                        },
                        "type": "mesh3d"
                      }
                    ],
                    "parcoords": [
                      {
                        "line": {
                          "colorbar": {
                            "outlinewidth": 0,
                            "ticks": ""
                          }
                        },
                        "type": "parcoords"
                      }
                    ],
                    "pie": [
                      {
                        "automargin": true,
                        "type": "pie"
                      }
                    ],
                    "scatter": [
                      {
                        "fillpattern": {
                          "fillmode": "overlay",
                          "size": 10,
                          "solidity": 0.2
                        },
                        "type": "scatter"
                      }
                    ],
                    "scatter3d": [
                      {
                        "line": {
                          "colorbar": {
                            "outlinewidth": 0,
                            "ticks": ""
                          }
                        },
                        "marker": {
                          "colorbar": {
                            "outlinewidth": 0,
                            "ticks": ""
                          }
                        },
                        "type": "scatter3d"
                      }
                    ],
                    "scattercarpet": [
                      {
                        "marker": {
                          "colorbar": {
                            "outlinewidth": 0,
                            "ticks": ""
                          }
                        },
                        "type": "scattercarpet"
                      }
                    ],
                    "scattergeo": [
                      {
                        "marker": {
                          "colorbar": {
                            "outlinewidth": 0,
                            "ticks": ""
                          }
                        },
                        "type": "scattergeo"
                      }
                    ],
                    "scattergl": [
                      {
                        "marker": {
                          "colorbar": {
                            "outlinewidth": 0,
                            "ticks": ""
                          }
                        },
                        "type": "scattergl"
                      }
                    ],
                    "scattermapbox": [
                      {
                        "marker": {
                          "colorbar": {
                            "outlinewidth": 0,
                            "ticks": ""
                          }
                        },
                        "type": "scattermapbox"
                      }
                    ],
                    "scatterpolar": [
                      {
                        "marker": {
                          "colorbar": {
                            "outlinewidth": 0,
                            "ticks": ""
                          }
                        },
                        "type": "scatterpolar"
                      }
                    ],
                    "scatterpolargl": [
                      {
                        "marker": {
                          "colorbar": {
                            "outlinewidth": 0,
                            "ticks": ""
                          }
                        },
                        "type": "scatterpolargl"
                      }
                    ],
                    "scatterternary": [
                      {
                        "marker": {
                          "colorbar": {
                            "outlinewidth": 0,
                            "ticks": ""
                          }
                        },
                        "type": "scatterternary"
                      }
                    ],
                    "surface": [
                      {
                        "colorbar": {
                          "outlinewidth": 0,
                          "ticks": ""
                        },
                        "colorscale": [
                          [
                            0,
                            "#0d0887"
                          ],
                          [
                            0.1111111111111111,
                            "#46039f"
                          ],
                          [
                            0.2222222222222222,
                            "#7201a8"
                          ],
                          [
                            0.3333333333333333,
                            "#9c179e"
                          ],
                          [
                            0.4444444444444444,
                            "#bd3786"
                          ],
                          [
                            0.5555555555555556,
                            "#d8576b"
                          ],
                          [
                            0.6666666666666666,
                            "#ed7953"
                          ],
                          [
                            0.7777777777777778,
                            "#fb9f3a"
                          ],
                          [
                            0.8888888888888888,
                            "#fdca26"
                          ],
                          [
                            1,
                            "#f0f921"
                          ]
                        ],
                        "type": "surface"
                      }
                    ],
                    "table": [
                      {
                        "cells": {
                          "fill": {
                            "color": "#EBF0F8"
                          },
                          "line": {
                            "color": "white"
                          }
                        },
                        "header": {
                          "fill": {
                            "color": "#C8D4E3"
                          },
                          "line": {
                            "color": "white"
                          }
                        },
                        "type": "table"
                      }
                    ]
                  },
                  "layout": {
                    "annotationdefaults": {
                      "arrowcolor": "#2a3f5f",
                      "arrowhead": 0,
                      "arrowwidth": 1
                    },
                    "autotypenumbers": "strict",
                    "coloraxis": {
                      "colorbar": {
                        "outlinewidth": 0,
                        "ticks": ""
                      }
                    },
                    "colorscale": {
                      "diverging": [
                        [
                          0,
                          "#8e0152"
                        ],
                        [
                          0.1,
                          "#c51b7d"
                        ],
                        [
                          0.2,
                          "#de77ae"
                        ],
                        [
                          0.3,
                          "#f1b6da"
                        ],
                        [
                          0.4,
                          "#fde0ef"
                        ],
                        [
                          0.5,
                          "#f7f7f7"
                        ],
                        [
                          0.6,
                          "#e6f5d0"
                        ],
                        [
                          0.7,
                          "#b8e186"
                        ],
                        [
                          0.8,
                          "#7fbc41"
                        ],
                        [
                          0.9,
                          "#4d9221"
                        ],
                        [
                          1,
                          "#276419"
                        ]
                      ],
                      "sequential": [
                        [
                          0,
                          "#0d0887"
                        ],
                        [
                          0.1111111111111111,
                          "#46039f"
                        ],
                        [
                          0.2222222222222222,
                          "#7201a8"
                        ],
                        [
                          0.3333333333333333,
                          "#9c179e"
                        ],
                        [
                          0.4444444444444444,
                          "#bd3786"
                        ],
                        [
                          0.5555555555555556,
                          "#d8576b"
                        ],
                        [
                          0.6666666666666666,
                          "#ed7953"
                        ],
                        [
                          0.7777777777777778,
                          "#fb9f3a"
                        ],
                        [
                          0.8888888888888888,
                          "#fdca26"
                        ],
                        [
                          1,
                          "#f0f921"
                        ]
                      ],
                      "sequentialminus": [
                        [
                          0,
                          "#0d0887"
                        ],
                        [
                          0.1111111111111111,
                          "#46039f"
                        ],
                        [
                          0.2222222222222222,
                          "#7201a8"
                        ],
                        [
                          0.3333333333333333,
                          "#9c179e"
                        ],
                        [
                          0.4444444444444444,
                          "#bd3786"
                        ],
                        [
                          0.5555555555555556,
                          "#d8576b"
                        ],
                        [
                          0.6666666666666666,
                          "#ed7953"
                        ],
                        [
                          0.7777777777777778,
                          "#fb9f3a"
                        ],
                        [
                          0.8888888888888888,
                          "#fdca26"
                        ],
                        [
                          1,
                          "#f0f921"
                        ]
                      ]
                    },
                    "colorway": [
                      "#636efa",
                      "#EF553B",
                      "#00cc96",
                      "#ab63fa",
                      "#FFA15A",
                      "#19d3f3",
                      "#FF6692",
                      "#B6E880",
                      "#FF97FF",
                      "#FECB52"
                    ],
                    "font": {
                      "color": "#2a3f5f"
                    },
                    "geo": {
                      "bgcolor": "white",
                      "lakecolor": "white",
                      "landcolor": "#E5ECF6",
                      "showlakes": true,
                      "showland": true,
                      "subunitcolor": "white"
                    },
                    "hoverlabel": {
                      "align": "left"
                    },
                    "hovermode": "closest",
                    "mapbox": {
                      "style": "light"
                    },
                    "paper_bgcolor": "white",
                    "plot_bgcolor": "#E5ECF6",
                    "polar": {
                      "angularaxis": {
                        "gridcolor": "white",
                        "linecolor": "white",
                        "ticks": ""
                      },
                      "bgcolor": "#E5ECF6",
                      "radialaxis": {
                        "gridcolor": "white",
                        "linecolor": "white",
                        "ticks": ""
                      }
                    },
                    "scene": {
                      "xaxis": {
                        "backgroundcolor": "#E5ECF6",
                        "gridcolor": "white",
                        "gridwidth": 2,
                        "linecolor": "white",
                        "showbackground": true,
                        "ticks": "",
                        "zerolinecolor": "white"
                      },
                      "yaxis": {
                        "backgroundcolor": "#E5ECF6",
                        "gridcolor": "white",
                        "gridwidth": 2,
                        "linecolor": "white",
                        "showbackground": true,
                        "ticks": "",
                        "zerolinecolor": "white"
                      },
                      "zaxis": {
                        "backgroundcolor": "#E5ECF6",
                        "gridcolor": "white",
                        "gridwidth": 2,
                        "linecolor": "white",
                        "showbackground": true,
                        "ticks": "",
                        "zerolinecolor": "white"
                      }
                    },
                    "shapedefaults": {
                      "line": {
                        "color": "#2a3f5f"
                      }
                    },
                    "ternary": {
                      "aaxis": {
                        "gridcolor": "white",
                        "linecolor": "white",
                        "ticks": ""
                      },
                      "baxis": {
                        "gridcolor": "white",
                        "linecolor": "white",
                        "ticks": ""
                      },
                      "bgcolor": "#E5ECF6",
                      "caxis": {
                        "gridcolor": "white",
                        "linecolor": "white",
                        "ticks": ""
                      }
                    },
                    "title": {
                      "x": 0.05
                    },
                    "xaxis": {
                      "automargin": true,
                      "gridcolor": "white",
                      "linecolor": "white",
                      "ticks": "",
                      "title": {
                        "standoff": 15
                      },
                      "zerolinecolor": "white",
                      "zerolinewidth": 2
                    },
                    "yaxis": {
                      "automargin": true,
                      "gridcolor": "white",
                      "linecolor": "white",
                      "ticks": "",
                      "title": {
                        "standoff": 15
                      },
                      "zerolinecolor": "white",
                      "zerolinewidth": 2
                    }
                  }
                },
                "title": {
                  "text": "Optimization History Plot"
                },
                "xaxis": {
                  "title": {
                    "text": "Trial"
                  }
                },
                "yaxis": {
                  "title": {
                    "text": "Objective Value"
                  }
                }
              }
            }
          },
          "metadata": {},
          "output_type": "display_data"
        }
      ],
      "source": [
        "optuna.visualization.plot_optimization_history(study)"
      ]
    },
    {
      "cell_type": "code",
      "execution_count": 71,
      "metadata": {},
      "outputs": [
        {
          "data": {
            "application/vnd.plotly.v1+json": {
              "config": {
                "plotlyServerURL": "https://plot.ly"
              },
              "data": [
                {
                  "cliponaxis": false,
                  "hovertemplate": [
                    "n_layers (IntDistribution): 0.015776348183213745<extra></extra>",
                    "optimizer (CategoricalDistribution): 0.04826030556548433<extra></extra>",
                    "lr (FloatDistribution): 0.05073483681341046<extra></extra>",
                    "n_units_l0 (IntDistribution): 0.27561390992357737<extra></extra>",
                    "number_epochs (IntDistribution): 0.28817624131529235<extra></extra>",
                    "dropout_l0 (FloatDistribution): 0.3214383581990219<extra></extra>"
                  ],
                  "marker": {
                    "color": "rgb(66,146,198)"
                  },
                  "orientation": "h",
                  "text": [
                    "0.02",
                    "0.05",
                    "0.05",
                    "0.28",
                    "0.29",
                    "0.32"
                  ],
                  "textposition": "outside",
                  "type": "bar",
                  "x": [
                    0.015776348183213745,
                    0.04826030556548433,
                    0.05073483681341046,
                    0.27561390992357737,
                    0.28817624131529235,
                    0.3214383581990219
                  ],
                  "y": [
                    "n_layers",
                    "optimizer",
                    "lr",
                    "n_units_l0",
                    "number_epochs",
                    "dropout_l0"
                  ]
                }
              ],
              "layout": {
                "showlegend": false,
                "template": {
                  "data": {
                    "bar": [
                      {
                        "error_x": {
                          "color": "#2a3f5f"
                        },
                        "error_y": {
                          "color": "#2a3f5f"
                        },
                        "marker": {
                          "line": {
                            "color": "#E5ECF6",
                            "width": 0.5
                          },
                          "pattern": {
                            "fillmode": "overlay",
                            "size": 10,
                            "solidity": 0.2
                          }
                        },
                        "type": "bar"
                      }
                    ],
                    "barpolar": [
                      {
                        "marker": {
                          "line": {
                            "color": "#E5ECF6",
                            "width": 0.5
                          },
                          "pattern": {
                            "fillmode": "overlay",
                            "size": 10,
                            "solidity": 0.2
                          }
                        },
                        "type": "barpolar"
                      }
                    ],
                    "carpet": [
                      {
                        "aaxis": {
                          "endlinecolor": "#2a3f5f",
                          "gridcolor": "white",
                          "linecolor": "white",
                          "minorgridcolor": "white",
                          "startlinecolor": "#2a3f5f"
                        },
                        "baxis": {
                          "endlinecolor": "#2a3f5f",
                          "gridcolor": "white",
                          "linecolor": "white",
                          "minorgridcolor": "white",
                          "startlinecolor": "#2a3f5f"
                        },
                        "type": "carpet"
                      }
                    ],
                    "choropleth": [
                      {
                        "colorbar": {
                          "outlinewidth": 0,
                          "ticks": ""
                        },
                        "type": "choropleth"
                      }
                    ],
                    "contour": [
                      {
                        "colorbar": {
                          "outlinewidth": 0,
                          "ticks": ""
                        },
                        "colorscale": [
                          [
                            0,
                            "#0d0887"
                          ],
                          [
                            0.1111111111111111,
                            "#46039f"
                          ],
                          [
                            0.2222222222222222,
                            "#7201a8"
                          ],
                          [
                            0.3333333333333333,
                            "#9c179e"
                          ],
                          [
                            0.4444444444444444,
                            "#bd3786"
                          ],
                          [
                            0.5555555555555556,
                            "#d8576b"
                          ],
                          [
                            0.6666666666666666,
                            "#ed7953"
                          ],
                          [
                            0.7777777777777778,
                            "#fb9f3a"
                          ],
                          [
                            0.8888888888888888,
                            "#fdca26"
                          ],
                          [
                            1,
                            "#f0f921"
                          ]
                        ],
                        "type": "contour"
                      }
                    ],
                    "contourcarpet": [
                      {
                        "colorbar": {
                          "outlinewidth": 0,
                          "ticks": ""
                        },
                        "type": "contourcarpet"
                      }
                    ],
                    "heatmap": [
                      {
                        "colorbar": {
                          "outlinewidth": 0,
                          "ticks": ""
                        },
                        "colorscale": [
                          [
                            0,
                            "#0d0887"
                          ],
                          [
                            0.1111111111111111,
                            "#46039f"
                          ],
                          [
                            0.2222222222222222,
                            "#7201a8"
                          ],
                          [
                            0.3333333333333333,
                            "#9c179e"
                          ],
                          [
                            0.4444444444444444,
                            "#bd3786"
                          ],
                          [
                            0.5555555555555556,
                            "#d8576b"
                          ],
                          [
                            0.6666666666666666,
                            "#ed7953"
                          ],
                          [
                            0.7777777777777778,
                            "#fb9f3a"
                          ],
                          [
                            0.8888888888888888,
                            "#fdca26"
                          ],
                          [
                            1,
                            "#f0f921"
                          ]
                        ],
                        "type": "heatmap"
                      }
                    ],
                    "heatmapgl": [
                      {
                        "colorbar": {
                          "outlinewidth": 0,
                          "ticks": ""
                        },
                        "colorscale": [
                          [
                            0,
                            "#0d0887"
                          ],
                          [
                            0.1111111111111111,
                            "#46039f"
                          ],
                          [
                            0.2222222222222222,
                            "#7201a8"
                          ],
                          [
                            0.3333333333333333,
                            "#9c179e"
                          ],
                          [
                            0.4444444444444444,
                            "#bd3786"
                          ],
                          [
                            0.5555555555555556,
                            "#d8576b"
                          ],
                          [
                            0.6666666666666666,
                            "#ed7953"
                          ],
                          [
                            0.7777777777777778,
                            "#fb9f3a"
                          ],
                          [
                            0.8888888888888888,
                            "#fdca26"
                          ],
                          [
                            1,
                            "#f0f921"
                          ]
                        ],
                        "type": "heatmapgl"
                      }
                    ],
                    "histogram": [
                      {
                        "marker": {
                          "pattern": {
                            "fillmode": "overlay",
                            "size": 10,
                            "solidity": 0.2
                          }
                        },
                        "type": "histogram"
                      }
                    ],
                    "histogram2d": [
                      {
                        "colorbar": {
                          "outlinewidth": 0,
                          "ticks": ""
                        },
                        "colorscale": [
                          [
                            0,
                            "#0d0887"
                          ],
                          [
                            0.1111111111111111,
                            "#46039f"
                          ],
                          [
                            0.2222222222222222,
                            "#7201a8"
                          ],
                          [
                            0.3333333333333333,
                            "#9c179e"
                          ],
                          [
                            0.4444444444444444,
                            "#bd3786"
                          ],
                          [
                            0.5555555555555556,
                            "#d8576b"
                          ],
                          [
                            0.6666666666666666,
                            "#ed7953"
                          ],
                          [
                            0.7777777777777778,
                            "#fb9f3a"
                          ],
                          [
                            0.8888888888888888,
                            "#fdca26"
                          ],
                          [
                            1,
                            "#f0f921"
                          ]
                        ],
                        "type": "histogram2d"
                      }
                    ],
                    "histogram2dcontour": [
                      {
                        "colorbar": {
                          "outlinewidth": 0,
                          "ticks": ""
                        },
                        "colorscale": [
                          [
                            0,
                            "#0d0887"
                          ],
                          [
                            0.1111111111111111,
                            "#46039f"
                          ],
                          [
                            0.2222222222222222,
                            "#7201a8"
                          ],
                          [
                            0.3333333333333333,
                            "#9c179e"
                          ],
                          [
                            0.4444444444444444,
                            "#bd3786"
                          ],
                          [
                            0.5555555555555556,
                            "#d8576b"
                          ],
                          [
                            0.6666666666666666,
                            "#ed7953"
                          ],
                          [
                            0.7777777777777778,
                            "#fb9f3a"
                          ],
                          [
                            0.8888888888888888,
                            "#fdca26"
                          ],
                          [
                            1,
                            "#f0f921"
                          ]
                        ],
                        "type": "histogram2dcontour"
                      }
                    ],
                    "mesh3d": [
                      {
                        "colorbar": {
                          "outlinewidth": 0,
                          "ticks": ""
                        },
                        "type": "mesh3d"
                      }
                    ],
                    "parcoords": [
                      {
                        "line": {
                          "colorbar": {
                            "outlinewidth": 0,
                            "ticks": ""
                          }
                        },
                        "type": "parcoords"
                      }
                    ],
                    "pie": [
                      {
                        "automargin": true,
                        "type": "pie"
                      }
                    ],
                    "scatter": [
                      {
                        "fillpattern": {
                          "fillmode": "overlay",
                          "size": 10,
                          "solidity": 0.2
                        },
                        "type": "scatter"
                      }
                    ],
                    "scatter3d": [
                      {
                        "line": {
                          "colorbar": {
                            "outlinewidth": 0,
                            "ticks": ""
                          }
                        },
                        "marker": {
                          "colorbar": {
                            "outlinewidth": 0,
                            "ticks": ""
                          }
                        },
                        "type": "scatter3d"
                      }
                    ],
                    "scattercarpet": [
                      {
                        "marker": {
                          "colorbar": {
                            "outlinewidth": 0,
                            "ticks": ""
                          }
                        },
                        "type": "scattercarpet"
                      }
                    ],
                    "scattergeo": [
                      {
                        "marker": {
                          "colorbar": {
                            "outlinewidth": 0,
                            "ticks": ""
                          }
                        },
                        "type": "scattergeo"
                      }
                    ],
                    "scattergl": [
                      {
                        "marker": {
                          "colorbar": {
                            "outlinewidth": 0,
                            "ticks": ""
                          }
                        },
                        "type": "scattergl"
                      }
                    ],
                    "scattermapbox": [
                      {
                        "marker": {
                          "colorbar": {
                            "outlinewidth": 0,
                            "ticks": ""
                          }
                        },
                        "type": "scattermapbox"
                      }
                    ],
                    "scatterpolar": [
                      {
                        "marker": {
                          "colorbar": {
                            "outlinewidth": 0,
                            "ticks": ""
                          }
                        },
                        "type": "scatterpolar"
                      }
                    ],
                    "scatterpolargl": [
                      {
                        "marker": {
                          "colorbar": {
                            "outlinewidth": 0,
                            "ticks": ""
                          }
                        },
                        "type": "scatterpolargl"
                      }
                    ],
                    "scatterternary": [
                      {
                        "marker": {
                          "colorbar": {
                            "outlinewidth": 0,
                            "ticks": ""
                          }
                        },
                        "type": "scatterternary"
                      }
                    ],
                    "surface": [
                      {
                        "colorbar": {
                          "outlinewidth": 0,
                          "ticks": ""
                        },
                        "colorscale": [
                          [
                            0,
                            "#0d0887"
                          ],
                          [
                            0.1111111111111111,
                            "#46039f"
                          ],
                          [
                            0.2222222222222222,
                            "#7201a8"
                          ],
                          [
                            0.3333333333333333,
                            "#9c179e"
                          ],
                          [
                            0.4444444444444444,
                            "#bd3786"
                          ],
                          [
                            0.5555555555555556,
                            "#d8576b"
                          ],
                          [
                            0.6666666666666666,
                            "#ed7953"
                          ],
                          [
                            0.7777777777777778,
                            "#fb9f3a"
                          ],
                          [
                            0.8888888888888888,
                            "#fdca26"
                          ],
                          [
                            1,
                            "#f0f921"
                          ]
                        ],
                        "type": "surface"
                      }
                    ],
                    "table": [
                      {
                        "cells": {
                          "fill": {
                            "color": "#EBF0F8"
                          },
                          "line": {
                            "color": "white"
                          }
                        },
                        "header": {
                          "fill": {
                            "color": "#C8D4E3"
                          },
                          "line": {
                            "color": "white"
                          }
                        },
                        "type": "table"
                      }
                    ]
                  },
                  "layout": {
                    "annotationdefaults": {
                      "arrowcolor": "#2a3f5f",
                      "arrowhead": 0,
                      "arrowwidth": 1
                    },
                    "autotypenumbers": "strict",
                    "coloraxis": {
                      "colorbar": {
                        "outlinewidth": 0,
                        "ticks": ""
                      }
                    },
                    "colorscale": {
                      "diverging": [
                        [
                          0,
                          "#8e0152"
                        ],
                        [
                          0.1,
                          "#c51b7d"
                        ],
                        [
                          0.2,
                          "#de77ae"
                        ],
                        [
                          0.3,
                          "#f1b6da"
                        ],
                        [
                          0.4,
                          "#fde0ef"
                        ],
                        [
                          0.5,
                          "#f7f7f7"
                        ],
                        [
                          0.6,
                          "#e6f5d0"
                        ],
                        [
                          0.7,
                          "#b8e186"
                        ],
                        [
                          0.8,
                          "#7fbc41"
                        ],
                        [
                          0.9,
                          "#4d9221"
                        ],
                        [
                          1,
                          "#276419"
                        ]
                      ],
                      "sequential": [
                        [
                          0,
                          "#0d0887"
                        ],
                        [
                          0.1111111111111111,
                          "#46039f"
                        ],
                        [
                          0.2222222222222222,
                          "#7201a8"
                        ],
                        [
                          0.3333333333333333,
                          "#9c179e"
                        ],
                        [
                          0.4444444444444444,
                          "#bd3786"
                        ],
                        [
                          0.5555555555555556,
                          "#d8576b"
                        ],
                        [
                          0.6666666666666666,
                          "#ed7953"
                        ],
                        [
                          0.7777777777777778,
                          "#fb9f3a"
                        ],
                        [
                          0.8888888888888888,
                          "#fdca26"
                        ],
                        [
                          1,
                          "#f0f921"
                        ]
                      ],
                      "sequentialminus": [
                        [
                          0,
                          "#0d0887"
                        ],
                        [
                          0.1111111111111111,
                          "#46039f"
                        ],
                        [
                          0.2222222222222222,
                          "#7201a8"
                        ],
                        [
                          0.3333333333333333,
                          "#9c179e"
                        ],
                        [
                          0.4444444444444444,
                          "#bd3786"
                        ],
                        [
                          0.5555555555555556,
                          "#d8576b"
                        ],
                        [
                          0.6666666666666666,
                          "#ed7953"
                        ],
                        [
                          0.7777777777777778,
                          "#fb9f3a"
                        ],
                        [
                          0.8888888888888888,
                          "#fdca26"
                        ],
                        [
                          1,
                          "#f0f921"
                        ]
                      ]
                    },
                    "colorway": [
                      "#636efa",
                      "#EF553B",
                      "#00cc96",
                      "#ab63fa",
                      "#FFA15A",
                      "#19d3f3",
                      "#FF6692",
                      "#B6E880",
                      "#FF97FF",
                      "#FECB52"
                    ],
                    "font": {
                      "color": "#2a3f5f"
                    },
                    "geo": {
                      "bgcolor": "white",
                      "lakecolor": "white",
                      "landcolor": "#E5ECF6",
                      "showlakes": true,
                      "showland": true,
                      "subunitcolor": "white"
                    },
                    "hoverlabel": {
                      "align": "left"
                    },
                    "hovermode": "closest",
                    "mapbox": {
                      "style": "light"
                    },
                    "paper_bgcolor": "white",
                    "plot_bgcolor": "#E5ECF6",
                    "polar": {
                      "angularaxis": {
                        "gridcolor": "white",
                        "linecolor": "white",
                        "ticks": ""
                      },
                      "bgcolor": "#E5ECF6",
                      "radialaxis": {
                        "gridcolor": "white",
                        "linecolor": "white",
                        "ticks": ""
                      }
                    },
                    "scene": {
                      "xaxis": {
                        "backgroundcolor": "#E5ECF6",
                        "gridcolor": "white",
                        "gridwidth": 2,
                        "linecolor": "white",
                        "showbackground": true,
                        "ticks": "",
                        "zerolinecolor": "white"
                      },
                      "yaxis": {
                        "backgroundcolor": "#E5ECF6",
                        "gridcolor": "white",
                        "gridwidth": 2,
                        "linecolor": "white",
                        "showbackground": true,
                        "ticks": "",
                        "zerolinecolor": "white"
                      },
                      "zaxis": {
                        "backgroundcolor": "#E5ECF6",
                        "gridcolor": "white",
                        "gridwidth": 2,
                        "linecolor": "white",
                        "showbackground": true,
                        "ticks": "",
                        "zerolinecolor": "white"
                      }
                    },
                    "shapedefaults": {
                      "line": {
                        "color": "#2a3f5f"
                      }
                    },
                    "ternary": {
                      "aaxis": {
                        "gridcolor": "white",
                        "linecolor": "white",
                        "ticks": ""
                      },
                      "baxis": {
                        "gridcolor": "white",
                        "linecolor": "white",
                        "ticks": ""
                      },
                      "bgcolor": "#E5ECF6",
                      "caxis": {
                        "gridcolor": "white",
                        "linecolor": "white",
                        "ticks": ""
                      }
                    },
                    "title": {
                      "x": 0.05
                    },
                    "xaxis": {
                      "automargin": true,
                      "gridcolor": "white",
                      "linecolor": "white",
                      "ticks": "",
                      "title": {
                        "standoff": 15
                      },
                      "zerolinecolor": "white",
                      "zerolinewidth": 2
                    },
                    "yaxis": {
                      "automargin": true,
                      "gridcolor": "white",
                      "linecolor": "white",
                      "ticks": "",
                      "title": {
                        "standoff": 15
                      },
                      "zerolinecolor": "white",
                      "zerolinewidth": 2
                    }
                  }
                },
                "title": {
                  "text": "Hyperparameter Importances"
                },
                "xaxis": {
                  "title": {
                    "text": "Importance for Objective Value"
                  }
                },
                "yaxis": {
                  "title": {
                    "text": "Hyperparameter"
                  }
                }
              }
            }
          },
          "metadata": {},
          "output_type": "display_data"
        }
      ],
      "source": [
        "optuna.visualization.plot_param_importances(study)"
      ]
    },
    {
      "attachments": {},
      "cell_type": "markdown",
      "metadata": {},
      "source": [
        "## Classifier according to hyperparameter tuning"
      ]
    },
    {
      "cell_type": "code",
      "execution_count": 72,
      "metadata": {},
      "outputs": [],
      "source": [
        "model = torch.load(f\"{models_dir}model_{dataset}.pt\")"
      ]
    },
    {
      "cell_type": "code",
      "execution_count": 73,
      "metadata": {},
      "outputs": [],
      "source": [
        "# class SimpleClassifier(nn.Module):\n",
        "\n",
        "#     def __init__(self, num_inputs, num_outputs):\n",
        "#         super().__init__()\n",
        "#         # Initialize the modules we need to build the network\n",
        "#         self.lin1 = nn.Linear(num_inputs, trial.params[\"n_units_l0\"])\n",
        "#         self.bn1 = nn.BatchNorm1d(trial.params[\"n_units_l0\"])\n",
        "#         self.act1 = nn.ReLU()\n",
        "#         self.d1 = nn.Dropout(trial.params[\"dropout_l0\"])\n",
        "        \n",
        "#         self.lin2 = nn.Linear(trial.params[\"n_units_l0\"], trial.params[\"n_units_l1\"])\n",
        "#         self.bn2 = nn.BatchNorm1d(trial.params[\"n_units_l1\"])\n",
        "#         self.act2 = nn.ReLU()\n",
        "#         self.d2 = nn.Dropout(trial.params[\"dropout_l1\"])\n",
        "        \n",
        "#         self.lin3 = nn.Linear(trial.params[\"n_units_l1\"], num_outputs)\n",
        "\n",
        "#     def forward(self, x):\n",
        "#         # Perform the calculation of the model to determine the prediction\n",
        "#         x = self.lin1(x)\n",
        "#         x = self.bn1(x)\n",
        "#         x = self.act1(x)\n",
        "#         x = self.d1(x)\n",
        "        \n",
        "#         x = self.lin2(x)\n",
        "#         x = self.bn2(x)\n",
        "#         x = self.act2(x)\n",
        "#         x = self.d2(x)\n",
        "\n",
        "#         x = self.lin3(x)\n",
        "#         return x"
      ]
    },
    {
      "attachments": {},
      "cell_type": "markdown",
      "metadata": {},
      "source": [
        "## Train model"
      ]
    },
    {
      "cell_type": "code",
      "execution_count": 74,
      "metadata": {},
      "outputs": [],
      "source": [
        "# NUMBER_EPOCHS = trial.params[\"number_epochs\"]\n",
        "\n",
        "# MSELoss = nn.MSELoss()\n",
        "# optimizer = optim.RMSprop(model.parameters(), lr=trial.params[\"lr\"])\n",
        "\n",
        "# model.train()\n",
        "\n",
        "# for epoch in range(NUMBER_EPOCHS):  # loop over the dataset multiple times\n",
        "    \n",
        "#     sum_loss = 0\n",
        "\n",
        "#     for inputs, labels in train_data_loader:\n",
        "#         # get the inputs; data is a list of [inputs, labels]\n",
        "\n",
        "#         # zero the parameter gradients\n",
        "#         optimizer.zero_grad()\n",
        "\n",
        "#         # forward + backward + optimize\n",
        "#         preds = model(inputs.float())\n",
        "#         preds = torch.sigmoid(preds)\n",
        "#         loss = MSELoss(preds, labels.float())\n",
        "        \n",
        "#         loss.backward()\n",
        "#         optimizer.step()\n",
        "\n",
        "#         sum_loss += loss\n",
        "    \n",
        "#     print(epoch, sum_loss / X_train.shape[0])"
      ]
    },
    {
      "attachments": {},
      "cell_type": "markdown",
      "metadata": {},
      "source": [
        "## Train set evaluation"
      ]
    },
    {
      "cell_type": "code",
      "execution_count": 77,
      "metadata": {},
      "outputs": [
        {
          "name": "stdout",
          "output_type": "stream",
          "text": [
            "Accuracy of the model: 82.50%\n"
          ]
        },
        {
          "name": "stderr",
          "output_type": "stream",
          "text": [
            "C:\\Users\\User\\AppData\\Local\\Temp/ipykernel_23060/2870069813.py:9: UserWarning:\n",
            "\n",
            "To copy construct from a tensor, it is recommended to use sourceTensor.clone().detach() or sourceTensor.clone().detach().requires_grad_(True), rather than torch.tensor(sourceTensor).\n",
            "\n"
          ]
        }
      ],
      "source": [
        "model.eval()\n",
        "\n",
        "acc = get_accuracy(model, test_dataset=train_dataset)\n",
        "print(f\"Accuracy of the model: {100.0*acc:4.2f}%\")"
      ]
    },
    {
      "attachments": {},
      "cell_type": "markdown",
      "metadata": {},
      "source": [
        "## Test set evaluation"
      ]
    },
    {
      "cell_type": "code",
      "execution_count": 78,
      "metadata": {},
      "outputs": [
        {
          "name": "stdout",
          "output_type": "stream",
          "text": [
            "Accuracy of the model: 63.95%\n"
          ]
        },
        {
          "name": "stderr",
          "output_type": "stream",
          "text": [
            "C:\\Users\\User\\AppData\\Local\\Temp/ipykernel_23060/2870069813.py:9: UserWarning:\n",
            "\n",
            "To copy construct from a tensor, it is recommended to use sourceTensor.clone().detach() or sourceTensor.clone().detach().requires_grad_(True), rather than torch.tensor(sourceTensor).\n",
            "\n"
          ]
        }
      ],
      "source": [
        "model.eval()\n",
        "\n",
        "acc = get_accuracy(model, test_dataset=test_dataset)\n",
        "print(f\"Accuracy of the model: {100.0*acc:4.2f}%\")"
      ]
    }
  ],
  "metadata": {
    "kernelspec": {
      "display_name": "Python 3",
      "language": "python",
      "name": "python3"
    },
    "language_info": {
      "codemirror_mode": {
        "name": "ipython",
        "version": 3
      },
      "file_extension": ".py",
      "mimetype": "text/x-python",
      "name": "python",
      "nbconvert_exporter": "python",
      "pygments_lexer": "ipython3",
      "version": "3.9.0"
    },
    "orig_nbformat": 4
  },
  "nbformat": 4,
  "nbformat_minor": 2
}
