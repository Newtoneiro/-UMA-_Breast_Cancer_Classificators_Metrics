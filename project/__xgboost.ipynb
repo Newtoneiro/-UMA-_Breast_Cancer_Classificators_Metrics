{
 "cells": [
  {
   "attachments": {},
   "cell_type": "markdown",
   "metadata": {},
   "source": [
    "## Imports"
   ]
  },
  {
   "cell_type": "code",
   "execution_count": 97,
   "metadata": {},
   "outputs": [],
   "source": [
    "import xgboost as xgb\n",
    "import numpy as np\n",
    "from data.Data import Data\n",
    "import sklearn"
   ]
  },
  {
   "attachments": {},
   "cell_type": "markdown",
   "metadata": {},
   "source": [
    "### SEED"
   ]
  },
  {
   "cell_type": "code",
   "execution_count": 98,
   "metadata": {},
   "outputs": [
    {
     "name": "stdout",
     "output_type": "stream",
     "text": [
      "SEED: 9538\n"
     ]
    }
   ],
   "source": [
    "import random\n",
    "\n",
    "SEED = None\n",
    "if not SEED:\n",
    "  SEED = random.randint(0, 10000)\n",
    "print(f\"SEED: {SEED}\")\n",
    "\n",
    "np.random.seed(seed=SEED)\n",
    "random.seed(SEED)"
   ]
  },
  {
   "attachments": {},
   "cell_type": "markdown",
   "metadata": {},
   "source": [
    "## Datasets"
   ]
  },
  {
   "cell_type": "code",
   "execution_count": 99,
   "metadata": {},
   "outputs": [],
   "source": [
    "dataset = \"breast-cancer\"\n",
    "COLUMNS_FOR_BREAST_CANCER = ['node-caps', 'inv-nodes', 'tumor-size', 'deg-malig', 'irradiat', 'class']"
   ]
  },
  {
   "cell_type": "code",
   "execution_count": 100,
   "metadata": {},
   "outputs": [],
   "source": [
    "distinct_columns = None\n",
    "if dataset == \"breast-cancer\":\n",
    "  distinct_columns = COLUMNS_FOR_BREAST_CANCER\n",
    "\n",
    "data = Data(dataset, distinct_columns=distinct_columns)"
   ]
  },
  {
   "cell_type": "code",
   "execution_count": 101,
   "metadata": {},
   "outputs": [],
   "source": [
    "train, eval = data.get_train_and_valid_set(0.7)\n",
    "train_x = train.drop('class', axis=1)\n",
    "train_y = train['class']\n",
    "\n",
    "eval_x = eval.drop('class', axis=1)\n",
    "eval_y = eval['class']"
   ]
  },
  {
   "attachments": {},
   "cell_type": "markdown",
   "metadata": {},
   "source": [
    "## Hyperparameter tuning"
   ]
  },
  {
   "cell_type": "code",
   "execution_count": 102,
   "metadata": {},
   "outputs": [],
   "source": [
    "import optuna"
   ]
  },
  {
   "cell_type": "code",
   "execution_count": 103,
   "metadata": {},
   "outputs": [],
   "source": [
    "xgb_models_saves_dir = \"./model_saves/xgb_models_saves/\"\n",
    "\n",
    "def objective(trial):\n",
    "    params = {\n",
    "        'max_depth': trial.suggest_int('max_depth', 1, 9),\n",
    "        'learning_rate': trial.suggest_float('learning_rate', 0.01, 1.0, log=True),\n",
    "        'n_estimators': trial.suggest_int('n_estimators', 50, 500),\n",
    "        'min_child_weight': trial.suggest_int('min_child_weight', 1, 10),\n",
    "        'gamma': trial.suggest_float('gamma', 1e-8, 1.0, log=True),\n",
    "        'subsample': trial.suggest_float('subsample', 0.01, 1.0, log=True),\n",
    "        'colsample_bytree': trial.suggest_float('colsample_bytree', 0.01, 1.0, log=True),\n",
    "        'reg_alpha': trial.suggest_float('reg_alpha', 1e-8, 1.0, log=True),\n",
    "        'reg_lambda': trial.suggest_float('reg_lambda', 1e-8, 1.0, log=True),\n",
    "        'eval_metric': 'mlogloss',\n",
    "        'use_label_encoder': False\n",
    "    }\n",
    "\n",
    "    # Create model\n",
    "    model = xgb.XGBClassifier(**params)\n",
    "\n",
    "    # Fit model\n",
    "    model.fit(train_x, train_y)\n",
    "\n",
    "    # Eval model\n",
    "    y_pred = model.predict(eval_x)\n",
    "    accuracy = sklearn.metrics.accuracy_score(eval_y, y_pred)\n",
    "\n",
    "    if accuracy > 0.8:\n",
    "        model.save_model(f\"{xgb_models_saves_dir}model_{dataset}_{accuracy:4.2f}.json\")\n",
    "    \n",
    "    return accuracy"
   ]
  },
  {
   "cell_type": "code",
   "execution_count": 104,
   "metadata": {},
   "outputs": [
    {
     "name": "stderr",
     "output_type": "stream",
     "text": [
      "[I 2023-06-08 16:38:42,046] A new study created in memory with name: no-name-7ac5ae85-0336-4fac-9f10-54ff029e56e1\n"
     ]
    },
    {
     "data": {
      "application/vnd.jupyter.widget-view+json": {
       "model_id": "dbd920abc90d49d1b2c7ed58f782db04",
       "version_major": 2,
       "version_minor": 0
      },
      "text/plain": [
       "  0%|          | 0/50 [00:00<?, ?it/s]"
      ]
     },
     "metadata": {},
     "output_type": "display_data"
    },
    {
     "name": "stdout",
     "output_type": "stream",
     "text": [
      "[I 2023-06-08 16:38:42,114] Trial 0 finished with value: 0.7325581395348837 and parameters: {'max_depth': 8, 'learning_rate': 0.1715316363710388, 'n_estimators': 130, 'min_child_weight': 8, 'gamma': 1.959626199541495e-06, 'subsample': 0.011628475188418726, 'colsample_bytree': 0.4392432498579906, 'reg_alpha': 0.00048057372155045636, 'reg_lambda': 4.988539792254573e-06}. Best is trial 0 with value: 0.7325581395348837.\n",
      "[I 2023-06-08 16:38:42,335] Trial 1 finished with value: 0.7325581395348837 and parameters: {'max_depth': 2, 'learning_rate': 0.12774703656070946, 'n_estimators': 417, 'min_child_weight': 8, 'gamma': 3.937853162885529e-07, 'subsample': 0.06165492670347774, 'colsample_bytree': 0.13211299655617792, 'reg_alpha': 0.029363474426732285, 'reg_lambda': 1.4425211945762475e-08}. Best is trial 0 with value: 0.7325581395348837.\n",
      "[I 2023-06-08 16:38:42,461] Trial 2 finished with value: 0.7325581395348837 and parameters: {'max_depth': 6, 'learning_rate': 0.10323161516984816, 'n_estimators': 462, 'min_child_weight': 7, 'gamma': 0.002084361696016709, 'subsample': 0.06241730844528199, 'colsample_bytree': 0.1088429818861919, 'reg_alpha': 0.004403481946681623, 'reg_lambda': 1.1511046361792396e-08}. Best is trial 0 with value: 0.7325581395348837.\n",
      "[I 2023-06-08 16:38:42,583] Trial 3 finished with value: 0.7325581395348837 and parameters: {'max_depth': 1, 'learning_rate': 0.05089810825040516, 'n_estimators': 412, 'min_child_weight': 4, 'gamma': 0.008712436592514005, 'subsample': 0.012206836586032105, 'colsample_bytree': 0.16299911644964846, 'reg_alpha': 1.8649703751873153e-05, 'reg_lambda': 5.208924629581216e-06}. Best is trial 0 with value: 0.7325581395348837.\n",
      "[I 2023-06-08 16:38:42,659] Trial 4 finished with value: 0.7674418604651163 and parameters: {'max_depth': 7, 'learning_rate': 0.029596593180349882, 'n_estimators': 186, 'min_child_weight': 3, 'gamma': 0.06479226217561579, 'subsample': 0.4105620114796368, 'colsample_bytree': 0.02047689154755563, 'reg_alpha': 0.00045470693298010277, 'reg_lambda': 0.6800127388113156}. Best is trial 4 with value: 0.7674418604651163.\n",
      "[I 2023-06-08 16:38:42,719] Trial 5 finished with value: 0.7325581395348837 and parameters: {'max_depth': 9, 'learning_rate': 0.11850310597011073, 'n_estimators': 169, 'min_child_weight': 10, 'gamma': 3.2911290463047697e-07, 'subsample': 0.13755536889207315, 'colsample_bytree': 0.054948336104884886, 'reg_alpha': 2.4556708993774575e-08, 'reg_lambda': 0.08357253951964043}. Best is trial 4 with value: 0.7674418604651163.\n",
      "[I 2023-06-08 16:38:42,889] Trial 6 finished with value: 0.7209302325581395 and parameters: {'max_depth': 4, 'learning_rate': 0.3353029865412086, 'n_estimators': 423, 'min_child_weight': 4, 'gamma': 0.008655044762719796, 'subsample': 0.6529126899482014, 'colsample_bytree': 0.9199997095831027, 'reg_alpha': 7.759679197576106e-08, 'reg_lambda': 0.015435421272760591}. Best is trial 4 with value: 0.7674418604651163.\n",
      "[I 2023-06-08 16:38:43,012] Trial 7 finished with value: 0.7325581395348837 and parameters: {'max_depth': 2, 'learning_rate': 0.050906327758154124, 'n_estimators': 477, 'min_child_weight': 2, 'gamma': 1.0491338113241776e-05, 'subsample': 0.01573082629036325, 'colsample_bytree': 0.17482789883651523, 'reg_alpha': 1.3814824331411732e-06, 'reg_lambda': 1.2906842979421036e-06}. Best is trial 4 with value: 0.7674418604651163.\n",
      "[I 2023-06-08 16:38:43,042] Trial 8 finished with value: 0.7325581395348837 and parameters: {'max_depth': 3, 'learning_rate': 0.9914678193314274, 'n_estimators': 54, 'min_child_weight': 3, 'gamma': 8.746467714753526e-08, 'subsample': 0.11194453295868394, 'colsample_bytree': 0.12950468318715033, 'reg_alpha': 0.012340065764731125, 'reg_lambda': 2.9107778295983067e-08}. Best is trial 4 with value: 0.7674418604651163.\n",
      "[I 2023-06-08 16:38:43,082] Trial 9 finished with value: 0.7093023255813954 and parameters: {'max_depth': 6, 'learning_rate': 0.8172331321807902, 'n_estimators': 107, 'min_child_weight': 1, 'gamma': 6.9868670287027115e-06, 'subsample': 0.11533035558412234, 'colsample_bytree': 0.033717025000957614, 'reg_alpha': 0.008741749316885213, 'reg_lambda': 0.0005523112535769018}. Best is trial 4 with value: 0.7674418604651163.\n",
      "[I 2023-06-08 16:38:43,236] Trial 10 finished with value: 0.7441860465116279 and parameters: {'max_depth': 7, 'learning_rate': 0.010515303862323458, 'n_estimators': 254, 'min_child_weight': 6, 'gamma': 0.5532924599138929, 'subsample': 0.9463700726336833, 'colsample_bytree': 0.013205011554393128, 'reg_alpha': 0.9199273833311491, 'reg_lambda': 0.8158860406592008}. Best is trial 4 with value: 0.7674418604651163.\n",
      "[I 2023-06-08 16:38:43,405] Trial 11 finished with value: 0.7558139534883721 and parameters: {'max_depth': 7, 'learning_rate': 0.011067146898069135, 'n_estimators': 267, 'min_child_weight': 6, 'gamma': 0.9243584337506262, 'subsample': 0.9671690061069665, 'colsample_bytree': 0.010351676298186218, 'reg_alpha': 0.9403907743295291, 'reg_lambda': 0.43047486327414425}. Best is trial 4 with value: 0.7674418604651163.\n",
      "[I 2023-06-08 16:38:43,579] Trial 12 finished with value: 0.7441860465116279 and parameters: {'max_depth': 5, 'learning_rate': 0.010337263028181897, 'n_estimators': 275, 'min_child_weight': 5, 'gamma': 0.7887529949757299, 'subsample': 0.4834388085684556, 'colsample_bytree': 0.0130683092634965, 'reg_alpha': 0.8026782486756545, 'reg_lambda': 0.6955547013929035}. Best is trial 4 with value: 0.7674418604651163.\n",
      "[I 2023-06-08 16:38:43,722] Trial 13 finished with value: 0.7790697674418605 and parameters: {'max_depth': 8, 'learning_rate': 0.02588429990091242, 'n_estimators': 228, 'min_child_weight': 5, 'gamma': 0.07058266191840949, 'subsample': 0.3795413102296578, 'colsample_bytree': 0.011577200080720744, 'reg_alpha': 0.00010503367176642815, 'reg_lambda': 0.007850110096915929}. Best is trial 13 with value: 0.7790697674418605.\n",
      "[I 2023-06-08 16:38:43,904] Trial 14 finished with value: 0.7790697674418605 and parameters: {'max_depth': 9, 'learning_rate': 0.024472362052101675, 'n_estimators': 195, 'min_child_weight': 3, 'gamma': 0.0003378710499506891, 'subsample': 0.3359467925332175, 'colsample_bytree': 0.021294624131685667, 'reg_alpha': 7.738754699493613e-05, 'reg_lambda': 0.01101656649633049}. Best is trial 13 with value: 0.7790697674418605.\n",
      "[I 2023-06-08 16:38:44,064] Trial 15 finished with value: 0.7906976744186046 and parameters: {'max_depth': 9, 'learning_rate': 0.023098836380897103, 'n_estimators': 326, 'min_child_weight': 1, 'gamma': 5.814557759652077e-05, 'subsample': 0.28117731094541326, 'colsample_bytree': 0.02777106859180453, 'reg_alpha': 3.430751283989861e-05, 'reg_lambda': 0.003154635859933764}. Best is trial 15 with value: 0.7906976744186046.\n",
      "[I 2023-06-08 16:38:44,242] Trial 16 finished with value: 0.7906976744186046 and parameters: {'max_depth': 9, 'learning_rate': 0.02081288845270705, 'n_estimators': 335, 'min_child_weight': 1, 'gamma': 6.317024073365657e-05, 'subsample': 0.25534849424884004, 'colsample_bytree': 0.049605583553387636, 'reg_alpha': 6.426573475102123e-06, 'reg_lambda': 0.0007502667004470322}. Best is trial 15 with value: 0.7906976744186046.\n",
      "[I 2023-06-08 16:38:44,421] Trial 17 finished with value: 0.7674418604651163 and parameters: {'max_depth': 9, 'learning_rate': 0.01830714953187825, 'n_estimators': 359, 'min_child_weight': 1, 'gamma': 9.76903363142594e-05, 'subsample': 0.22726657518456875, 'colsample_bytree': 0.05087706460130362, 'reg_alpha': 2.8207936802838425e-06, 'reg_lambda': 0.0005896676212574403}. Best is trial 15 with value: 0.7906976744186046.\n",
      "[I 2023-06-08 16:38:44,606] Trial 18 finished with value: 0.7558139534883721 and parameters: {'max_depth': 8, 'learning_rate': 0.0511853058334564, 'n_estimators': 354, 'min_child_weight': 1, 'gamma': 1.1450179539074476e-08, 'subsample': 0.23195792555180336, 'colsample_bytree': 0.06474668796369121, 'reg_alpha': 3.989771185222198e-06, 'reg_lambda': 0.000140063780649064}. Best is trial 15 with value: 0.7906976744186046.\n",
      "[I 2023-06-08 16:38:44,769] Trial 19 finished with value: 0.7790697674418605 and parameters: {'max_depth': 5, 'learning_rate': 0.01696724445867551, 'n_estimators': 354, 'min_child_weight': 2, 'gamma': 8.128143797583435e-05, 'subsample': 0.1863526051614239, 'colsample_bytree': 0.033933318608749145, 'reg_alpha': 1.2859230251732214e-06, 'reg_lambda': 0.0021068445218201293}. Best is trial 15 with value: 0.7906976744186046.\n",
      "[I 2023-06-08 16:38:44,935] Trial 20 finished with value: 0.7906976744186046 and parameters: {'max_depth': 9, 'learning_rate': 0.038330316696825156, 'n_estimators': 315, 'min_child_weight': 2, 'gamma': 3.075714221467362e-05, 'subsample': 0.29143086945122365, 'colsample_bytree': 0.07759287019778156, 'reg_alpha': 2.6178112048666695e-07, 'reg_lambda': 5.575956988050879e-05}. Best is trial 15 with value: 0.7906976744186046.\n",
      "[I 2023-06-08 16:38:45,100] Trial 21 finished with value: 0.7906976744186046 and parameters: {'max_depth': 9, 'learning_rate': 0.038650996804994495, 'n_estimators': 310, 'min_child_weight': 2, 'gamma': 2.2662125818749642e-05, 'subsample': 0.2938419693157349, 'colsample_bytree': 0.07684081376401702, 'reg_alpha': 2.169181786554548e-07, 'reg_lambda': 5.357592798305067e-05}. Best is trial 15 with value: 0.7906976744186046.\n",
      "[I 2023-06-08 16:38:45,275] Trial 22 finished with value: 0.7558139534883721 and parameters: {'max_depth': 8, 'learning_rate': 0.07142292542970795, 'n_estimators': 316, 'min_child_weight': 1, 'gamma': 0.00033767772293651386, 'subsample': 0.5834942895221109, 'colsample_bytree': 0.03919749251737771, 'reg_alpha': 2.449347866967332e-07, 'reg_lambda': 9.077674750302454e-05}. Best is trial 15 with value: 0.7906976744186046.\n",
      "[I 2023-06-08 16:38:45,430] Trial 23 finished with value: 0.7790697674418605 and parameters: {'max_depth': 9, 'learning_rate': 0.016717181216644, 'n_estimators': 311, 'min_child_weight': 2, 'gamma': 3.053014165727298e-05, 'subsample': 0.18789127901167094, 'colsample_bytree': 0.07494689816422163, 'reg_alpha': 1.0090856303273499e-08, 'reg_lambda': 0.002227700097754575}. Best is trial 15 with value: 0.7906976744186046.\n",
      "[I 2023-06-08 16:38:45,622] Trial 24 finished with value: 0.7790697674418605 and parameters: {'max_depth': 8, 'learning_rate': 0.03158417661165814, 'n_estimators': 390, 'min_child_weight': 1, 'gamma': 0.000383610667436893, 'subsample': 0.3219791611151829, 'colsample_bytree': 0.0260598574099305, 'reg_alpha': 6.405082346467378e-06, 'reg_lambda': 0.041622618507063405}. Best is trial 15 with value: 0.7906976744186046.\n",
      "[I 2023-06-08 16:38:45,870] Trial 25 finished with value: 0.7674418604651163 and parameters: {'max_depth': 6, 'learning_rate': 0.019872493451780455, 'n_estimators': 315, 'min_child_weight': 4, 'gamma': 5.533934528025679e-06, 'subsample': 0.5769191805075154, 'colsample_bytree': 0.05027871573245795, 'reg_alpha': 1.502381490185721e-05, 'reg_lambda': 0.0015470495012140724}. Best is trial 15 with value: 0.7906976744186046.\n",
      "[I 2023-06-08 16:38:46,004] Trial 26 finished with value: 0.7906976744186046 and parameters: {'max_depth': 7, 'learning_rate': 0.03990906988043729, 'n_estimators': 230, 'min_child_weight': 3, 'gamma': 4.5945114218979e-05, 'subsample': 0.25299040895206076, 'colsample_bytree': 0.08981516870680017, 'reg_alpha': 6.33700220980652e-07, 'reg_lambda': 0.000278739589313623}. Best is trial 15 with value: 0.7906976744186046.\n",
      "[I 2023-06-08 16:38:46,191] Trial 27 finished with value: 0.8023255813953488 and parameters: {'max_depth': 9, 'learning_rate': 0.021293532451690887, 'n_estimators': 366, 'min_child_weight': 2, 'gamma': 2.5049861036687497e-06, 'subsample': 0.16750648356581507, 'colsample_bytree': 0.04229281082115818, 'reg_alpha': 3.969227080574277e-07, 'reg_lambda': 3.744263342403242e-05}. Best is trial 27 with value: 0.8023255813953488.\n",
      "[I 2023-06-08 16:38:46,368] Trial 28 finished with value: 0.7558139534883721 and parameters: {'max_depth': 8, 'learning_rate': 0.014475479093260567, 'n_estimators': 377, 'min_child_weight': 1, 'gamma': 1.9983147701144413e-06, 'subsample': 0.14891400049916856, 'colsample_bytree': 0.025696230963927338, 'reg_alpha': 1.0105209343664088e-05, 'reg_lambda': 0.0034475621499330295}. Best is trial 27 with value: 0.8023255813953488.\n",
      "[I 2023-06-08 16:38:46,528] Trial 29 finished with value: 0.7325581395348837 and parameters: {'max_depth': 8, 'learning_rate': 0.022372448936842232, 'n_estimators': 339, 'min_child_weight': 2, 'gamma': 3.0134616585885677e-06, 'subsample': 0.0703899295131869, 'colsample_bytree': 0.041569932769457814, 'reg_alpha': 3.6812827458690555e-05, 'reg_lambda': 2.6465161837711674e-05}. Best is trial 27 with value: 0.8023255813953488.\n",
      "[I 2023-06-08 16:38:46,708] Trial 30 finished with value: 0.7325581395348837 and parameters: {'max_depth': 9, 'learning_rate': 0.01494870021757031, 'n_estimators': 454, 'min_child_weight': 9, 'gamma': 9.961003902064133e-07, 'subsample': 0.09509244161447872, 'colsample_bytree': 0.01699540649881249, 'reg_alpha': 2.7527257182921533e-06, 'reg_lambda': 0.0006964977996934688}. Best is trial 27 with value: 0.8023255813953488.\n",
      "[I 2023-06-08 16:38:46,882] Trial 31 finished with value: 0.8023255813953488 and parameters: {'max_depth': 9, 'learning_rate': 0.03235609686745462, 'n_estimators': 296, 'min_child_weight': 2, 'gamma': 1.657295284974147e-05, 'subsample': 0.20199928141148082, 'colsample_bytree': 0.06063790523642039, 'reg_alpha': 5.013004069550715e-07, 'reg_lambda': 2.136420469937691e-05}. Best is trial 27 with value: 0.8023255813953488.\n",
      "[I 2023-06-08 16:38:47,051] Trial 32 finished with value: 0.7674418604651163 and parameters: {'max_depth': 8, 'learning_rate': 0.02629311243503127, 'n_estimators': 391, 'min_child_weight': 3, 'gamma': 1.37179125452649e-05, 'subsample': 0.1840567544752229, 'colsample_bytree': 0.03200547529713924, 'reg_alpha': 9.40858155093115e-07, 'reg_lambda': 1.7695405371469278e-05}. Best is trial 27 with value: 0.8023255813953488.\n",
      "[I 2023-06-08 16:38:47,205] Trial 33 finished with value: 0.7441860465116279 and parameters: {'max_depth': 9, 'learning_rate': 0.07344073245744029, 'n_estimators': 284, 'min_child_weight': 1, 'gamma': 5.535332734631944e-06, 'subsample': 0.15868960863973228, 'colsample_bytree': 0.04534120325088764, 'reg_alpha': 7.414986709439133e-08, 'reg_lambda': 0.00025176032386677505}. Best is trial 27 with value: 0.8023255813953488.\n",
      "[I 2023-06-08 16:38:47,391] Trial 34 finished with value: 0.7790697674418605 and parameters: {'max_depth': 7, 'learning_rate': 0.02182788450071465, 'n_estimators': 426, 'min_child_weight': 2, 'gamma': 1.0187639154753233e-06, 'subsample': 0.22673551284256693, 'colsample_bytree': 0.058246421240419094, 'reg_alpha': 6.133625870523192e-06, 'reg_lambda': 1.140480280921908e-05}. Best is trial 27 with value: 0.8023255813953488.\n",
      "[I 2023-06-08 16:38:47,547] Trial 35 finished with value: 0.7325581395348837 and parameters: {'max_depth': 8, 'learning_rate': 0.030394860302870447, 'n_estimators': 340, 'min_child_weight': 4, 'gamma': 0.00022931445343154778, 'subsample': 0.09124559617872259, 'colsample_bytree': 0.02844608709197011, 'reg_alpha': 3.0367666932757768e-05, 'reg_lambda': 2.473337352488589e-06}. Best is trial 27 with value: 0.8023255813953488.\n",
      "[I 2023-06-08 16:38:47,698] Trial 36 finished with value: 0.7325581395348837 and parameters: {'max_depth': 9, 'learning_rate': 0.014119331413730566, 'n_estimators': 290, 'min_child_weight': 8, 'gamma': 0.0010392954247495465, 'subsample': 0.4359365358821238, 'colsample_bytree': 0.09783742373982346, 'reg_alpha': 0.00010873845791024605, 'reg_lambda': 0.00015911913649613044}. Best is trial 27 with value: 0.8023255813953488.\n",
      "[I 2023-06-08 16:38:47,838] Trial 37 finished with value: 0.7325581395348837 and parameters: {'max_depth': 4, 'learning_rate': 0.021126461504792308, 'n_estimators': 253, 'min_child_weight': 3, 'gamma': 0.000116502727444755, 'subsample': 0.13355375923153975, 'colsample_bytree': 0.04238142913718082, 'reg_alpha': 0.0003650811915927728, 'reg_lambda': 4.664742663229565e-05}. Best is trial 27 with value: 0.8023255813953488.\n",
      "[I 2023-06-08 16:38:48,023] Trial 38 finished with value: 0.7325581395348837 and parameters: {'max_depth': 6, 'learning_rate': 0.03206352317317642, 'n_estimators': 449, 'min_child_weight': 7, 'gamma': 1.758388068239026e-05, 'subsample': 0.3437630653802165, 'colsample_bytree': 0.02051279478023308, 'reg_alpha': 5.427601130253194e-07, 'reg_lambda': 0.0009878651625760593}. Best is trial 27 with value: 0.8023255813953488.\n",
      "[I 2023-06-08 16:38:48,215] Trial 39 finished with value: 0.7674418604651163 and parameters: {'max_depth': 1, 'learning_rate': 0.01221918767166764, 'n_estimators': 407, 'min_child_weight': 2, 'gamma': 5.329306890283343e-05, 'subsample': 0.2626004273155891, 'colsample_bytree': 0.06475872268308108, 'reg_alpha': 2.3777626879913117e-06, 'reg_lambda': 0.0003328910433265316}. Best is trial 27 with value: 0.8023255813953488.\n",
      "[I 2023-06-08 16:38:48,416] Trial 40 finished with value: 0.7790697674418605 and parameters: {'max_depth': 7, 'learning_rate': 0.019156816723460823, 'n_estimators': 378, 'min_child_weight': 1, 'gamma': 9.307149688491583e-06, 'subsample': 0.1800491252378884, 'colsample_bytree': 0.12577335978424353, 'reg_alpha': 1.0154645682829968e-05, 'reg_lambda': 3.4945030381546373e-06}. Best is trial 27 with value: 0.8023255813953488.\n",
      "[I 2023-06-08 16:38:48,637] Trial 41 finished with value: 0.7906976744186046 and parameters: {'max_depth': 9, 'learning_rate': 0.03978251949630507, 'n_estimators': 499, 'min_child_weight': 2, 'gamma': 3.0868634699487795e-05, 'subsample': 0.2928354902719995, 'colsample_bytree': 0.08237513903631243, 'reg_alpha': 2.8335886816626853e-07, 'reg_lambda': 8.959429018188702e-05}. Best is trial 27 with value: 0.8023255813953488.\n",
      "[I 2023-06-08 16:38:48,859] Trial 42 finished with value: 0.7674418604651163 and parameters: {'max_depth': 9, 'learning_rate': 0.025822281891886886, 'n_estimators': 334, 'min_child_weight': 3, 'gamma': 0.00013857926556622356, 'subsample': 0.3976098639374083, 'colsample_bytree': 0.0623841091635388, 'reg_alpha': 9.420988749108766e-08, 'reg_lambda': 0.004889582220167614}. Best is trial 27 with value: 0.8023255813953488.\n",
      "[I 2023-06-08 16:38:49,037] Trial 43 finished with value: 0.8023255813953488 and parameters: {'max_depth': 9, 'learning_rate': 0.01334769617707717, 'n_estimators': 237, 'min_child_weight': 2, 'gamma': 2.5858325869269467e-05, 'subsample': 0.22215520233113284, 'colsample_bytree': 0.16948065649377023, 'reg_alpha': 1.2988472101561805e-06, 'reg_lambda': 1.3646142601876846e-05}. Best is trial 27 with value: 0.8023255813953488.\n",
      "[I 2023-06-08 16:38:49,181] Trial 44 finished with value: 0.7790697674418605 and parameters: {'max_depth': 8, 'learning_rate': 0.01328366655068853, 'n_estimators': 225, 'min_child_weight': 1, 'gamma': 4.447308587060545e-06, 'subsample': 0.12915573513976522, 'colsample_bytree': 0.1882490277636715, 'reg_alpha': 1.6176978673595398e-06, 'reg_lambda': 1.008943283159165e-05}. Best is trial 27 with value: 0.8023255813953488.\n",
      "[I 2023-06-08 16:38:49,331] Trial 45 finished with value: 0.7325581395348837 and parameters: {'max_depth': 9, 'learning_rate': 0.016396340232089, 'n_estimators': 291, 'min_child_weight': 4, 'gamma': 1.1573422416808568e-05, 'subsample': 0.22122758771776305, 'colsample_bytree': 0.21769484944253242, 'reg_alpha': 8.072044740322183e-07, 'reg_lambda': 7.155502087278957e-07}. Best is trial 27 with value: 0.8023255813953488.\n",
      "[I 2023-06-08 16:38:49,469] Trial 46 finished with value: 0.7325581395348837 and parameters: {'max_depth': 8, 'learning_rate': 0.013103234627838113, 'n_estimators': 178, 'min_child_weight': 2, 'gamma': 5.9291850239479474e-05, 'subsample': 0.15841481652461328, 'colsample_bytree': 0.11481952946281383, 'reg_alpha': 5.117676483863312e-06, 'reg_lambda': 6.594689127241706e-06}. Best is trial 27 with value: 0.8023255813953488.\n",
      "[I 2023-06-08 16:38:49,576] Trial 47 finished with value: 0.7325581395348837 and parameters: {'max_depth': 9, 'learning_rate': 0.01039146860944071, 'n_estimators': 114, 'min_child_weight': 3, 'gamma': 0.0008432177723357153, 'subsample': 0.10649318124127755, 'colsample_bytree': 0.05172812451080224, 'reg_alpha': 1.672508975574378e-06, 'reg_lambda': 1.8689819283077605e-05}. Best is trial 27 with value: 0.8023255813953488.\n",
      "[I 2023-06-08 16:38:49,744] Trial 48 finished with value: 0.7790697674418605 and parameters: {'max_depth': 3, 'learning_rate': 0.01946765317061728, 'n_estimators': 196, 'min_child_weight': 1, 'gamma': 1.6545382899513498e-06, 'subsample': 0.4797284084465953, 'colsample_bytree': 0.14830506056359433, 'reg_alpha': 1.3910602406654822e-05, 'reg_lambda': 0.0004952493737102837}. Best is trial 27 with value: 0.8023255813953488.\n",
      "[I 2023-06-08 16:38:49,909] Trial 49 finished with value: 0.7906976744186046 and parameters: {'max_depth': 8, 'learning_rate': 0.012257017634781037, 'n_estimators': 252, 'min_child_weight': 3, 'gamma': 4.815712495211676e-07, 'subsample': 0.35703443230834025, 'colsample_bytree': 0.24000734775570437, 'reg_alpha': 3.2646706246498238e-06, 'reg_lambda': 0.0011502465058486617}. Best is trial 27 with value: 0.8023255813953488.\n",
      "Study statistics: \n",
      "  Number of finished trials:  50\n",
      "  Number of pruned trials:  0\n"
     ]
    }
   ],
   "source": [
    "study = optuna.create_study(direction=\"maximize\",\n",
    "                            sampler=optuna.samplers.TPESampler(seed=SEED),\n",
    "                            pruner=optuna.pruners.MedianPruner(n_warmup_steps=10))\n",
    "study.optimize(objective, n_trials=50, show_progress_bar=True)\n",
    "\n",
    "pruned_trials = [t for t in study.trials if t.state == optuna.TrialPruned]\n",
    "\n",
    "print(\"Study statistics: \")\n",
    "print(\"  Number of finished trials: \", len(study.trials))\n",
    "print(\"  Number of pruned trials: \", len(pruned_trials))"
   ]
  },
  {
   "cell_type": "code",
   "execution_count": 105,
   "metadata": {},
   "outputs": [
    {
     "name": "stdout",
     "output_type": "stream",
     "text": [
      "Best trial:\n",
      "  Value:  0.8023255813953488\n",
      "  Params: \n",
      "    max_depth: 9\n",
      "    learning_rate: 0.021293532451690887\n",
      "    n_estimators: 366\n",
      "    min_child_weight: 2\n",
      "    gamma: 2.5049861036687497e-06\n",
      "    subsample: 0.16750648356581507\n",
      "    colsample_bytree: 0.04229281082115818\n",
      "    reg_alpha: 3.969227080574277e-07\n",
      "    reg_lambda: 3.744263342403242e-05\n"
     ]
    }
   ],
   "source": [
    "print(\"Best trial:\")\n",
    "trial = study.best_trial\n",
    "\n",
    "print(\"  Value: \", trial.value)\n",
    "\n",
    "print(\"  Params: \")\n",
    "for key, value in trial.params.items():\n",
    "    print(\"    {}: {}\".format(key, value))"
   ]
  },
  {
   "attachments": {},
   "cell_type": "markdown",
   "metadata": {},
   "source": [
    "## Visualize hyperparameter tuning"
   ]
  },
  {
   "cell_type": "code",
   "execution_count": 106,
   "metadata": {},
   "outputs": [
    {
     "data": {
      "application/vnd.plotly.v1+json": {
       "config": {
        "plotlyServerURL": "https://plot.ly"
       },
       "data": [
        {
         "mode": "markers",
         "name": "Objective Value",
         "type": "scatter",
         "x": [
          0,
          1,
          2,
          3,
          4,
          5,
          6,
          7,
          8,
          9,
          10,
          11,
          12,
          13,
          14,
          15,
          16,
          17,
          18,
          19,
          20,
          21,
          22,
          23,
          24,
          25,
          26,
          27,
          28,
          29,
          30,
          31,
          32,
          33,
          34,
          35,
          36,
          37,
          38,
          39,
          40,
          41,
          42,
          43,
          44,
          45,
          46,
          47,
          48,
          49
         ],
         "y": [
          0.7325581395348837,
          0.7325581395348837,
          0.7325581395348837,
          0.7325581395348837,
          0.7674418604651163,
          0.7325581395348837,
          0.7209302325581395,
          0.7325581395348837,
          0.7325581395348837,
          0.7093023255813954,
          0.7441860465116279,
          0.7558139534883721,
          0.7441860465116279,
          0.7790697674418605,
          0.7790697674418605,
          0.7906976744186046,
          0.7906976744186046,
          0.7674418604651163,
          0.7558139534883721,
          0.7790697674418605,
          0.7906976744186046,
          0.7906976744186046,
          0.7558139534883721,
          0.7790697674418605,
          0.7790697674418605,
          0.7674418604651163,
          0.7906976744186046,
          0.8023255813953488,
          0.7558139534883721,
          0.7325581395348837,
          0.7325581395348837,
          0.8023255813953488,
          0.7674418604651163,
          0.7441860465116279,
          0.7790697674418605,
          0.7325581395348837,
          0.7325581395348837,
          0.7325581395348837,
          0.7325581395348837,
          0.7674418604651163,
          0.7790697674418605,
          0.7906976744186046,
          0.7674418604651163,
          0.8023255813953488,
          0.7790697674418605,
          0.7325581395348837,
          0.7325581395348837,
          0.7325581395348837,
          0.7790697674418605,
          0.7906976744186046
         ]
        },
        {
         "name": "Best Value",
         "type": "scatter",
         "x": [
          0,
          1,
          2,
          3,
          4,
          5,
          6,
          7,
          8,
          9,
          10,
          11,
          12,
          13,
          14,
          15,
          16,
          17,
          18,
          19,
          20,
          21,
          22,
          23,
          24,
          25,
          26,
          27,
          28,
          29,
          30,
          31,
          32,
          33,
          34,
          35,
          36,
          37,
          38,
          39,
          40,
          41,
          42,
          43,
          44,
          45,
          46,
          47,
          48,
          49
         ],
         "y": [
          0.7325581395348837,
          0.7325581395348837,
          0.7325581395348837,
          0.7325581395348837,
          0.7674418604651163,
          0.7674418604651163,
          0.7674418604651163,
          0.7674418604651163,
          0.7674418604651163,
          0.7674418604651163,
          0.7674418604651163,
          0.7674418604651163,
          0.7674418604651163,
          0.7790697674418605,
          0.7790697674418605,
          0.7906976744186046,
          0.7906976744186046,
          0.7906976744186046,
          0.7906976744186046,
          0.7906976744186046,
          0.7906976744186046,
          0.7906976744186046,
          0.7906976744186046,
          0.7906976744186046,
          0.7906976744186046,
          0.7906976744186046,
          0.7906976744186046,
          0.8023255813953488,
          0.8023255813953488,
          0.8023255813953488,
          0.8023255813953488,
          0.8023255813953488,
          0.8023255813953488,
          0.8023255813953488,
          0.8023255813953488,
          0.8023255813953488,
          0.8023255813953488,
          0.8023255813953488,
          0.8023255813953488,
          0.8023255813953488,
          0.8023255813953488,
          0.8023255813953488,
          0.8023255813953488,
          0.8023255813953488,
          0.8023255813953488,
          0.8023255813953488,
          0.8023255813953488,
          0.8023255813953488,
          0.8023255813953488,
          0.8023255813953488
         ]
        }
       ],
       "layout": {
        "template": {
         "data": {
          "bar": [
           {
            "error_x": {
             "color": "#2a3f5f"
            },
            "error_y": {
             "color": "#2a3f5f"
            },
            "marker": {
             "line": {
              "color": "#E5ECF6",
              "width": 0.5
             },
             "pattern": {
              "fillmode": "overlay",
              "size": 10,
              "solidity": 0.2
             }
            },
            "type": "bar"
           }
          ],
          "barpolar": [
           {
            "marker": {
             "line": {
              "color": "#E5ECF6",
              "width": 0.5
             },
             "pattern": {
              "fillmode": "overlay",
              "size": 10,
              "solidity": 0.2
             }
            },
            "type": "barpolar"
           }
          ],
          "carpet": [
           {
            "aaxis": {
             "endlinecolor": "#2a3f5f",
             "gridcolor": "white",
             "linecolor": "white",
             "minorgridcolor": "white",
             "startlinecolor": "#2a3f5f"
            },
            "baxis": {
             "endlinecolor": "#2a3f5f",
             "gridcolor": "white",
             "linecolor": "white",
             "minorgridcolor": "white",
             "startlinecolor": "#2a3f5f"
            },
            "type": "carpet"
           }
          ],
          "choropleth": [
           {
            "colorbar": {
             "outlinewidth": 0,
             "ticks": ""
            },
            "type": "choropleth"
           }
          ],
          "contour": [
           {
            "colorbar": {
             "outlinewidth": 0,
             "ticks": ""
            },
            "colorscale": [
             [
              0,
              "#0d0887"
             ],
             [
              0.1111111111111111,
              "#46039f"
             ],
             [
              0.2222222222222222,
              "#7201a8"
             ],
             [
              0.3333333333333333,
              "#9c179e"
             ],
             [
              0.4444444444444444,
              "#bd3786"
             ],
             [
              0.5555555555555556,
              "#d8576b"
             ],
             [
              0.6666666666666666,
              "#ed7953"
             ],
             [
              0.7777777777777778,
              "#fb9f3a"
             ],
             [
              0.8888888888888888,
              "#fdca26"
             ],
             [
              1,
              "#f0f921"
             ]
            ],
            "type": "contour"
           }
          ],
          "contourcarpet": [
           {
            "colorbar": {
             "outlinewidth": 0,
             "ticks": ""
            },
            "type": "contourcarpet"
           }
          ],
          "heatmap": [
           {
            "colorbar": {
             "outlinewidth": 0,
             "ticks": ""
            },
            "colorscale": [
             [
              0,
              "#0d0887"
             ],
             [
              0.1111111111111111,
              "#46039f"
             ],
             [
              0.2222222222222222,
              "#7201a8"
             ],
             [
              0.3333333333333333,
              "#9c179e"
             ],
             [
              0.4444444444444444,
              "#bd3786"
             ],
             [
              0.5555555555555556,
              "#d8576b"
             ],
             [
              0.6666666666666666,
              "#ed7953"
             ],
             [
              0.7777777777777778,
              "#fb9f3a"
             ],
             [
              0.8888888888888888,
              "#fdca26"
             ],
             [
              1,
              "#f0f921"
             ]
            ],
            "type": "heatmap"
           }
          ],
          "heatmapgl": [
           {
            "colorbar": {
             "outlinewidth": 0,
             "ticks": ""
            },
            "colorscale": [
             [
              0,
              "#0d0887"
             ],
             [
              0.1111111111111111,
              "#46039f"
             ],
             [
              0.2222222222222222,
              "#7201a8"
             ],
             [
              0.3333333333333333,
              "#9c179e"
             ],
             [
              0.4444444444444444,
              "#bd3786"
             ],
             [
              0.5555555555555556,
              "#d8576b"
             ],
             [
              0.6666666666666666,
              "#ed7953"
             ],
             [
              0.7777777777777778,
              "#fb9f3a"
             ],
             [
              0.8888888888888888,
              "#fdca26"
             ],
             [
              1,
              "#f0f921"
             ]
            ],
            "type": "heatmapgl"
           }
          ],
          "histogram": [
           {
            "marker": {
             "pattern": {
              "fillmode": "overlay",
              "size": 10,
              "solidity": 0.2
             }
            },
            "type": "histogram"
           }
          ],
          "histogram2d": [
           {
            "colorbar": {
             "outlinewidth": 0,
             "ticks": ""
            },
            "colorscale": [
             [
              0,
              "#0d0887"
             ],
             [
              0.1111111111111111,
              "#46039f"
             ],
             [
              0.2222222222222222,
              "#7201a8"
             ],
             [
              0.3333333333333333,
              "#9c179e"
             ],
             [
              0.4444444444444444,
              "#bd3786"
             ],
             [
              0.5555555555555556,
              "#d8576b"
             ],
             [
              0.6666666666666666,
              "#ed7953"
             ],
             [
              0.7777777777777778,
              "#fb9f3a"
             ],
             [
              0.8888888888888888,
              "#fdca26"
             ],
             [
              1,
              "#f0f921"
             ]
            ],
            "type": "histogram2d"
           }
          ],
          "histogram2dcontour": [
           {
            "colorbar": {
             "outlinewidth": 0,
             "ticks": ""
            },
            "colorscale": [
             [
              0,
              "#0d0887"
             ],
             [
              0.1111111111111111,
              "#46039f"
             ],
             [
              0.2222222222222222,
              "#7201a8"
             ],
             [
              0.3333333333333333,
              "#9c179e"
             ],
             [
              0.4444444444444444,
              "#bd3786"
             ],
             [
              0.5555555555555556,
              "#d8576b"
             ],
             [
              0.6666666666666666,
              "#ed7953"
             ],
             [
              0.7777777777777778,
              "#fb9f3a"
             ],
             [
              0.8888888888888888,
              "#fdca26"
             ],
             [
              1,
              "#f0f921"
             ]
            ],
            "type": "histogram2dcontour"
           }
          ],
          "mesh3d": [
           {
            "colorbar": {
             "outlinewidth": 0,
             "ticks": ""
            },
            "type": "mesh3d"
           }
          ],
          "parcoords": [
           {
            "line": {
             "colorbar": {
              "outlinewidth": 0,
              "ticks": ""
             }
            },
            "type": "parcoords"
           }
          ],
          "pie": [
           {
            "automargin": true,
            "type": "pie"
           }
          ],
          "scatter": [
           {
            "fillpattern": {
             "fillmode": "overlay",
             "size": 10,
             "solidity": 0.2
            },
            "type": "scatter"
           }
          ],
          "scatter3d": [
           {
            "line": {
             "colorbar": {
              "outlinewidth": 0,
              "ticks": ""
             }
            },
            "marker": {
             "colorbar": {
              "outlinewidth": 0,
              "ticks": ""
             }
            },
            "type": "scatter3d"
           }
          ],
          "scattercarpet": [
           {
            "marker": {
             "colorbar": {
              "outlinewidth": 0,
              "ticks": ""
             }
            },
            "type": "scattercarpet"
           }
          ],
          "scattergeo": [
           {
            "marker": {
             "colorbar": {
              "outlinewidth": 0,
              "ticks": ""
             }
            },
            "type": "scattergeo"
           }
          ],
          "scattergl": [
           {
            "marker": {
             "colorbar": {
              "outlinewidth": 0,
              "ticks": ""
             }
            },
            "type": "scattergl"
           }
          ],
          "scattermapbox": [
           {
            "marker": {
             "colorbar": {
              "outlinewidth": 0,
              "ticks": ""
             }
            },
            "type": "scattermapbox"
           }
          ],
          "scatterpolar": [
           {
            "marker": {
             "colorbar": {
              "outlinewidth": 0,
              "ticks": ""
             }
            },
            "type": "scatterpolar"
           }
          ],
          "scatterpolargl": [
           {
            "marker": {
             "colorbar": {
              "outlinewidth": 0,
              "ticks": ""
             }
            },
            "type": "scatterpolargl"
           }
          ],
          "scatterternary": [
           {
            "marker": {
             "colorbar": {
              "outlinewidth": 0,
              "ticks": ""
             }
            },
            "type": "scatterternary"
           }
          ],
          "surface": [
           {
            "colorbar": {
             "outlinewidth": 0,
             "ticks": ""
            },
            "colorscale": [
             [
              0,
              "#0d0887"
             ],
             [
              0.1111111111111111,
              "#46039f"
             ],
             [
              0.2222222222222222,
              "#7201a8"
             ],
             [
              0.3333333333333333,
              "#9c179e"
             ],
             [
              0.4444444444444444,
              "#bd3786"
             ],
             [
              0.5555555555555556,
              "#d8576b"
             ],
             [
              0.6666666666666666,
              "#ed7953"
             ],
             [
              0.7777777777777778,
              "#fb9f3a"
             ],
             [
              0.8888888888888888,
              "#fdca26"
             ],
             [
              1,
              "#f0f921"
             ]
            ],
            "type": "surface"
           }
          ],
          "table": [
           {
            "cells": {
             "fill": {
              "color": "#EBF0F8"
             },
             "line": {
              "color": "white"
             }
            },
            "header": {
             "fill": {
              "color": "#C8D4E3"
             },
             "line": {
              "color": "white"
             }
            },
            "type": "table"
           }
          ]
         },
         "layout": {
          "annotationdefaults": {
           "arrowcolor": "#2a3f5f",
           "arrowhead": 0,
           "arrowwidth": 1
          },
          "autotypenumbers": "strict",
          "coloraxis": {
           "colorbar": {
            "outlinewidth": 0,
            "ticks": ""
           }
          },
          "colorscale": {
           "diverging": [
            [
             0,
             "#8e0152"
            ],
            [
             0.1,
             "#c51b7d"
            ],
            [
             0.2,
             "#de77ae"
            ],
            [
             0.3,
             "#f1b6da"
            ],
            [
             0.4,
             "#fde0ef"
            ],
            [
             0.5,
             "#f7f7f7"
            ],
            [
             0.6,
             "#e6f5d0"
            ],
            [
             0.7,
             "#b8e186"
            ],
            [
             0.8,
             "#7fbc41"
            ],
            [
             0.9,
             "#4d9221"
            ],
            [
             1,
             "#276419"
            ]
           ],
           "sequential": [
            [
             0,
             "#0d0887"
            ],
            [
             0.1111111111111111,
             "#46039f"
            ],
            [
             0.2222222222222222,
             "#7201a8"
            ],
            [
             0.3333333333333333,
             "#9c179e"
            ],
            [
             0.4444444444444444,
             "#bd3786"
            ],
            [
             0.5555555555555556,
             "#d8576b"
            ],
            [
             0.6666666666666666,
             "#ed7953"
            ],
            [
             0.7777777777777778,
             "#fb9f3a"
            ],
            [
             0.8888888888888888,
             "#fdca26"
            ],
            [
             1,
             "#f0f921"
            ]
           ],
           "sequentialminus": [
            [
             0,
             "#0d0887"
            ],
            [
             0.1111111111111111,
             "#46039f"
            ],
            [
             0.2222222222222222,
             "#7201a8"
            ],
            [
             0.3333333333333333,
             "#9c179e"
            ],
            [
             0.4444444444444444,
             "#bd3786"
            ],
            [
             0.5555555555555556,
             "#d8576b"
            ],
            [
             0.6666666666666666,
             "#ed7953"
            ],
            [
             0.7777777777777778,
             "#fb9f3a"
            ],
            [
             0.8888888888888888,
             "#fdca26"
            ],
            [
             1,
             "#f0f921"
            ]
           ]
          },
          "colorway": [
           "#636efa",
           "#EF553B",
           "#00cc96",
           "#ab63fa",
           "#FFA15A",
           "#19d3f3",
           "#FF6692",
           "#B6E880",
           "#FF97FF",
           "#FECB52"
          ],
          "font": {
           "color": "#2a3f5f"
          },
          "geo": {
           "bgcolor": "white",
           "lakecolor": "white",
           "landcolor": "#E5ECF6",
           "showlakes": true,
           "showland": true,
           "subunitcolor": "white"
          },
          "hoverlabel": {
           "align": "left"
          },
          "hovermode": "closest",
          "mapbox": {
           "style": "light"
          },
          "paper_bgcolor": "white",
          "plot_bgcolor": "#E5ECF6",
          "polar": {
           "angularaxis": {
            "gridcolor": "white",
            "linecolor": "white",
            "ticks": ""
           },
           "bgcolor": "#E5ECF6",
           "radialaxis": {
            "gridcolor": "white",
            "linecolor": "white",
            "ticks": ""
           }
          },
          "scene": {
           "xaxis": {
            "backgroundcolor": "#E5ECF6",
            "gridcolor": "white",
            "gridwidth": 2,
            "linecolor": "white",
            "showbackground": true,
            "ticks": "",
            "zerolinecolor": "white"
           },
           "yaxis": {
            "backgroundcolor": "#E5ECF6",
            "gridcolor": "white",
            "gridwidth": 2,
            "linecolor": "white",
            "showbackground": true,
            "ticks": "",
            "zerolinecolor": "white"
           },
           "zaxis": {
            "backgroundcolor": "#E5ECF6",
            "gridcolor": "white",
            "gridwidth": 2,
            "linecolor": "white",
            "showbackground": true,
            "ticks": "",
            "zerolinecolor": "white"
           }
          },
          "shapedefaults": {
           "line": {
            "color": "#2a3f5f"
           }
          },
          "ternary": {
           "aaxis": {
            "gridcolor": "white",
            "linecolor": "white",
            "ticks": ""
           },
           "baxis": {
            "gridcolor": "white",
            "linecolor": "white",
            "ticks": ""
           },
           "bgcolor": "#E5ECF6",
           "caxis": {
            "gridcolor": "white",
            "linecolor": "white",
            "ticks": ""
           }
          },
          "title": {
           "x": 0.05
          },
          "xaxis": {
           "automargin": true,
           "gridcolor": "white",
           "linecolor": "white",
           "ticks": "",
           "title": {
            "standoff": 15
           },
           "zerolinecolor": "white",
           "zerolinewidth": 2
          },
          "yaxis": {
           "automargin": true,
           "gridcolor": "white",
           "linecolor": "white",
           "ticks": "",
           "title": {
            "standoff": 15
           },
           "zerolinecolor": "white",
           "zerolinewidth": 2
          }
         }
        },
        "title": {
         "text": "Optimization History Plot"
        },
        "xaxis": {
         "title": {
          "text": "Trial"
         }
        },
        "yaxis": {
         "title": {
          "text": "Objective Value"
         }
        }
       }
      }
     },
     "metadata": {},
     "output_type": "display_data"
    }
   ],
   "source": [
    "optuna.visualization.plot_optimization_history(study)"
   ]
  },
  {
   "cell_type": "code",
   "execution_count": 107,
   "metadata": {},
   "outputs": [
    {
     "data": {
      "application/vnd.plotly.v1+json": {
       "config": {
        "plotlyServerURL": "https://plot.ly"
       },
       "data": [
        {
         "cliponaxis": false,
         "hovertemplate": [
          "reg_lambda (FloatDistribution): 0.00989208146340204<extra></extra>",
          "reg_alpha (FloatDistribution): 0.016837196220159657<extra></extra>",
          "gamma (FloatDistribution): 0.022843545563256153<extra></extra>",
          "learning_rate (FloatDistribution): 0.034634534216445544<extra></extra>",
          "colsample_bytree (FloatDistribution): 0.03747659731218045<extra></extra>",
          "max_depth (IntDistribution): 0.04185223424644859<extra></extra>",
          "n_estimators (IntDistribution): 0.09558376350725831<extra></extra>",
          "subsample (FloatDistribution): 0.3032029787423317<extra></extra>",
          "min_child_weight (IntDistribution): 0.4376770687285175<extra></extra>"
         ],
         "marker": {
          "color": "rgb(66,146,198)"
         },
         "orientation": "h",
         "text": [
          "<0.01",
          "0.02",
          "0.02",
          "0.03",
          "0.04",
          "0.04",
          "0.10",
          "0.30",
          "0.44"
         ],
         "textposition": "outside",
         "type": "bar",
         "x": [
          0.00989208146340204,
          0.016837196220159657,
          0.022843545563256153,
          0.034634534216445544,
          0.03747659731218045,
          0.04185223424644859,
          0.09558376350725831,
          0.3032029787423317,
          0.4376770687285175
         ],
         "y": [
          "reg_lambda",
          "reg_alpha",
          "gamma",
          "learning_rate",
          "colsample_bytree",
          "max_depth",
          "n_estimators",
          "subsample",
          "min_child_weight"
         ]
        }
       ],
       "layout": {
        "showlegend": false,
        "template": {
         "data": {
          "bar": [
           {
            "error_x": {
             "color": "#2a3f5f"
            },
            "error_y": {
             "color": "#2a3f5f"
            },
            "marker": {
             "line": {
              "color": "#E5ECF6",
              "width": 0.5
             },
             "pattern": {
              "fillmode": "overlay",
              "size": 10,
              "solidity": 0.2
             }
            },
            "type": "bar"
           }
          ],
          "barpolar": [
           {
            "marker": {
             "line": {
              "color": "#E5ECF6",
              "width": 0.5
             },
             "pattern": {
              "fillmode": "overlay",
              "size": 10,
              "solidity": 0.2
             }
            },
            "type": "barpolar"
           }
          ],
          "carpet": [
           {
            "aaxis": {
             "endlinecolor": "#2a3f5f",
             "gridcolor": "white",
             "linecolor": "white",
             "minorgridcolor": "white",
             "startlinecolor": "#2a3f5f"
            },
            "baxis": {
             "endlinecolor": "#2a3f5f",
             "gridcolor": "white",
             "linecolor": "white",
             "minorgridcolor": "white",
             "startlinecolor": "#2a3f5f"
            },
            "type": "carpet"
           }
          ],
          "choropleth": [
           {
            "colorbar": {
             "outlinewidth": 0,
             "ticks": ""
            },
            "type": "choropleth"
           }
          ],
          "contour": [
           {
            "colorbar": {
             "outlinewidth": 0,
             "ticks": ""
            },
            "colorscale": [
             [
              0,
              "#0d0887"
             ],
             [
              0.1111111111111111,
              "#46039f"
             ],
             [
              0.2222222222222222,
              "#7201a8"
             ],
             [
              0.3333333333333333,
              "#9c179e"
             ],
             [
              0.4444444444444444,
              "#bd3786"
             ],
             [
              0.5555555555555556,
              "#d8576b"
             ],
             [
              0.6666666666666666,
              "#ed7953"
             ],
             [
              0.7777777777777778,
              "#fb9f3a"
             ],
             [
              0.8888888888888888,
              "#fdca26"
             ],
             [
              1,
              "#f0f921"
             ]
            ],
            "type": "contour"
           }
          ],
          "contourcarpet": [
           {
            "colorbar": {
             "outlinewidth": 0,
             "ticks": ""
            },
            "type": "contourcarpet"
           }
          ],
          "heatmap": [
           {
            "colorbar": {
             "outlinewidth": 0,
             "ticks": ""
            },
            "colorscale": [
             [
              0,
              "#0d0887"
             ],
             [
              0.1111111111111111,
              "#46039f"
             ],
             [
              0.2222222222222222,
              "#7201a8"
             ],
             [
              0.3333333333333333,
              "#9c179e"
             ],
             [
              0.4444444444444444,
              "#bd3786"
             ],
             [
              0.5555555555555556,
              "#d8576b"
             ],
             [
              0.6666666666666666,
              "#ed7953"
             ],
             [
              0.7777777777777778,
              "#fb9f3a"
             ],
             [
              0.8888888888888888,
              "#fdca26"
             ],
             [
              1,
              "#f0f921"
             ]
            ],
            "type": "heatmap"
           }
          ],
          "heatmapgl": [
           {
            "colorbar": {
             "outlinewidth": 0,
             "ticks": ""
            },
            "colorscale": [
             [
              0,
              "#0d0887"
             ],
             [
              0.1111111111111111,
              "#46039f"
             ],
             [
              0.2222222222222222,
              "#7201a8"
             ],
             [
              0.3333333333333333,
              "#9c179e"
             ],
             [
              0.4444444444444444,
              "#bd3786"
             ],
             [
              0.5555555555555556,
              "#d8576b"
             ],
             [
              0.6666666666666666,
              "#ed7953"
             ],
             [
              0.7777777777777778,
              "#fb9f3a"
             ],
             [
              0.8888888888888888,
              "#fdca26"
             ],
             [
              1,
              "#f0f921"
             ]
            ],
            "type": "heatmapgl"
           }
          ],
          "histogram": [
           {
            "marker": {
             "pattern": {
              "fillmode": "overlay",
              "size": 10,
              "solidity": 0.2
             }
            },
            "type": "histogram"
           }
          ],
          "histogram2d": [
           {
            "colorbar": {
             "outlinewidth": 0,
             "ticks": ""
            },
            "colorscale": [
             [
              0,
              "#0d0887"
             ],
             [
              0.1111111111111111,
              "#46039f"
             ],
             [
              0.2222222222222222,
              "#7201a8"
             ],
             [
              0.3333333333333333,
              "#9c179e"
             ],
             [
              0.4444444444444444,
              "#bd3786"
             ],
             [
              0.5555555555555556,
              "#d8576b"
             ],
             [
              0.6666666666666666,
              "#ed7953"
             ],
             [
              0.7777777777777778,
              "#fb9f3a"
             ],
             [
              0.8888888888888888,
              "#fdca26"
             ],
             [
              1,
              "#f0f921"
             ]
            ],
            "type": "histogram2d"
           }
          ],
          "histogram2dcontour": [
           {
            "colorbar": {
             "outlinewidth": 0,
             "ticks": ""
            },
            "colorscale": [
             [
              0,
              "#0d0887"
             ],
             [
              0.1111111111111111,
              "#46039f"
             ],
             [
              0.2222222222222222,
              "#7201a8"
             ],
             [
              0.3333333333333333,
              "#9c179e"
             ],
             [
              0.4444444444444444,
              "#bd3786"
             ],
             [
              0.5555555555555556,
              "#d8576b"
             ],
             [
              0.6666666666666666,
              "#ed7953"
             ],
             [
              0.7777777777777778,
              "#fb9f3a"
             ],
             [
              0.8888888888888888,
              "#fdca26"
             ],
             [
              1,
              "#f0f921"
             ]
            ],
            "type": "histogram2dcontour"
           }
          ],
          "mesh3d": [
           {
            "colorbar": {
             "outlinewidth": 0,
             "ticks": ""
            },
            "type": "mesh3d"
           }
          ],
          "parcoords": [
           {
            "line": {
             "colorbar": {
              "outlinewidth": 0,
              "ticks": ""
             }
            },
            "type": "parcoords"
           }
          ],
          "pie": [
           {
            "automargin": true,
            "type": "pie"
           }
          ],
          "scatter": [
           {
            "fillpattern": {
             "fillmode": "overlay",
             "size": 10,
             "solidity": 0.2
            },
            "type": "scatter"
           }
          ],
          "scatter3d": [
           {
            "line": {
             "colorbar": {
              "outlinewidth": 0,
              "ticks": ""
             }
            },
            "marker": {
             "colorbar": {
              "outlinewidth": 0,
              "ticks": ""
             }
            },
            "type": "scatter3d"
           }
          ],
          "scattercarpet": [
           {
            "marker": {
             "colorbar": {
              "outlinewidth": 0,
              "ticks": ""
             }
            },
            "type": "scattercarpet"
           }
          ],
          "scattergeo": [
           {
            "marker": {
             "colorbar": {
              "outlinewidth": 0,
              "ticks": ""
             }
            },
            "type": "scattergeo"
           }
          ],
          "scattergl": [
           {
            "marker": {
             "colorbar": {
              "outlinewidth": 0,
              "ticks": ""
             }
            },
            "type": "scattergl"
           }
          ],
          "scattermapbox": [
           {
            "marker": {
             "colorbar": {
              "outlinewidth": 0,
              "ticks": ""
             }
            },
            "type": "scattermapbox"
           }
          ],
          "scatterpolar": [
           {
            "marker": {
             "colorbar": {
              "outlinewidth": 0,
              "ticks": ""
             }
            },
            "type": "scatterpolar"
           }
          ],
          "scatterpolargl": [
           {
            "marker": {
             "colorbar": {
              "outlinewidth": 0,
              "ticks": ""
             }
            },
            "type": "scatterpolargl"
           }
          ],
          "scatterternary": [
           {
            "marker": {
             "colorbar": {
              "outlinewidth": 0,
              "ticks": ""
             }
            },
            "type": "scatterternary"
           }
          ],
          "surface": [
           {
            "colorbar": {
             "outlinewidth": 0,
             "ticks": ""
            },
            "colorscale": [
             [
              0,
              "#0d0887"
             ],
             [
              0.1111111111111111,
              "#46039f"
             ],
             [
              0.2222222222222222,
              "#7201a8"
             ],
             [
              0.3333333333333333,
              "#9c179e"
             ],
             [
              0.4444444444444444,
              "#bd3786"
             ],
             [
              0.5555555555555556,
              "#d8576b"
             ],
             [
              0.6666666666666666,
              "#ed7953"
             ],
             [
              0.7777777777777778,
              "#fb9f3a"
             ],
             [
              0.8888888888888888,
              "#fdca26"
             ],
             [
              1,
              "#f0f921"
             ]
            ],
            "type": "surface"
           }
          ],
          "table": [
           {
            "cells": {
             "fill": {
              "color": "#EBF0F8"
             },
             "line": {
              "color": "white"
             }
            },
            "header": {
             "fill": {
              "color": "#C8D4E3"
             },
             "line": {
              "color": "white"
             }
            },
            "type": "table"
           }
          ]
         },
         "layout": {
          "annotationdefaults": {
           "arrowcolor": "#2a3f5f",
           "arrowhead": 0,
           "arrowwidth": 1
          },
          "autotypenumbers": "strict",
          "coloraxis": {
           "colorbar": {
            "outlinewidth": 0,
            "ticks": ""
           }
          },
          "colorscale": {
           "diverging": [
            [
             0,
             "#8e0152"
            ],
            [
             0.1,
             "#c51b7d"
            ],
            [
             0.2,
             "#de77ae"
            ],
            [
             0.3,
             "#f1b6da"
            ],
            [
             0.4,
             "#fde0ef"
            ],
            [
             0.5,
             "#f7f7f7"
            ],
            [
             0.6,
             "#e6f5d0"
            ],
            [
             0.7,
             "#b8e186"
            ],
            [
             0.8,
             "#7fbc41"
            ],
            [
             0.9,
             "#4d9221"
            ],
            [
             1,
             "#276419"
            ]
           ],
           "sequential": [
            [
             0,
             "#0d0887"
            ],
            [
             0.1111111111111111,
             "#46039f"
            ],
            [
             0.2222222222222222,
             "#7201a8"
            ],
            [
             0.3333333333333333,
             "#9c179e"
            ],
            [
             0.4444444444444444,
             "#bd3786"
            ],
            [
             0.5555555555555556,
             "#d8576b"
            ],
            [
             0.6666666666666666,
             "#ed7953"
            ],
            [
             0.7777777777777778,
             "#fb9f3a"
            ],
            [
             0.8888888888888888,
             "#fdca26"
            ],
            [
             1,
             "#f0f921"
            ]
           ],
           "sequentialminus": [
            [
             0,
             "#0d0887"
            ],
            [
             0.1111111111111111,
             "#46039f"
            ],
            [
             0.2222222222222222,
             "#7201a8"
            ],
            [
             0.3333333333333333,
             "#9c179e"
            ],
            [
             0.4444444444444444,
             "#bd3786"
            ],
            [
             0.5555555555555556,
             "#d8576b"
            ],
            [
             0.6666666666666666,
             "#ed7953"
            ],
            [
             0.7777777777777778,
             "#fb9f3a"
            ],
            [
             0.8888888888888888,
             "#fdca26"
            ],
            [
             1,
             "#f0f921"
            ]
           ]
          },
          "colorway": [
           "#636efa",
           "#EF553B",
           "#00cc96",
           "#ab63fa",
           "#FFA15A",
           "#19d3f3",
           "#FF6692",
           "#B6E880",
           "#FF97FF",
           "#FECB52"
          ],
          "font": {
           "color": "#2a3f5f"
          },
          "geo": {
           "bgcolor": "white",
           "lakecolor": "white",
           "landcolor": "#E5ECF6",
           "showlakes": true,
           "showland": true,
           "subunitcolor": "white"
          },
          "hoverlabel": {
           "align": "left"
          },
          "hovermode": "closest",
          "mapbox": {
           "style": "light"
          },
          "paper_bgcolor": "white",
          "plot_bgcolor": "#E5ECF6",
          "polar": {
           "angularaxis": {
            "gridcolor": "white",
            "linecolor": "white",
            "ticks": ""
           },
           "bgcolor": "#E5ECF6",
           "radialaxis": {
            "gridcolor": "white",
            "linecolor": "white",
            "ticks": ""
           }
          },
          "scene": {
           "xaxis": {
            "backgroundcolor": "#E5ECF6",
            "gridcolor": "white",
            "gridwidth": 2,
            "linecolor": "white",
            "showbackground": true,
            "ticks": "",
            "zerolinecolor": "white"
           },
           "yaxis": {
            "backgroundcolor": "#E5ECF6",
            "gridcolor": "white",
            "gridwidth": 2,
            "linecolor": "white",
            "showbackground": true,
            "ticks": "",
            "zerolinecolor": "white"
           },
           "zaxis": {
            "backgroundcolor": "#E5ECF6",
            "gridcolor": "white",
            "gridwidth": 2,
            "linecolor": "white",
            "showbackground": true,
            "ticks": "",
            "zerolinecolor": "white"
           }
          },
          "shapedefaults": {
           "line": {
            "color": "#2a3f5f"
           }
          },
          "ternary": {
           "aaxis": {
            "gridcolor": "white",
            "linecolor": "white",
            "ticks": ""
           },
           "baxis": {
            "gridcolor": "white",
            "linecolor": "white",
            "ticks": ""
           },
           "bgcolor": "#E5ECF6",
           "caxis": {
            "gridcolor": "white",
            "linecolor": "white",
            "ticks": ""
           }
          },
          "title": {
           "x": 0.05
          },
          "xaxis": {
           "automargin": true,
           "gridcolor": "white",
           "linecolor": "white",
           "ticks": "",
           "title": {
            "standoff": 15
           },
           "zerolinecolor": "white",
           "zerolinewidth": 2
          },
          "yaxis": {
           "automargin": true,
           "gridcolor": "white",
           "linecolor": "white",
           "ticks": "",
           "title": {
            "standoff": 15
           },
           "zerolinecolor": "white",
           "zerolinewidth": 2
          }
         }
        },
        "title": {
         "text": "Hyperparameter Importances"
        },
        "xaxis": {
         "title": {
          "text": "Importance for Objective Value"
         }
        },
        "yaxis": {
         "title": {
          "text": "Hyperparameter"
         }
        }
       }
      }
     },
     "metadata": {},
     "output_type": "display_data"
    }
   ],
   "source": [
    "optuna.visualization.plot_param_importances(study)"
   ]
  },
  {
   "attachments": {},
   "cell_type": "markdown",
   "metadata": {},
   "source": [
    "## Model"
   ]
  },
  {
   "cell_type": "code",
   "execution_count": 111,
   "metadata": {},
   "outputs": [],
   "source": [
    "clf_xgb = xgb.XGBClassifier()\n",
    "clf_xgb.load_model(f\"{xgb_models_saves_dir}/model_{dataset}.json\")"
   ]
  },
  {
   "attachments": {},
   "cell_type": "markdown",
   "metadata": {},
   "source": [
    "## Evaluate"
   ]
  },
  {
   "attachments": {},
   "cell_type": "markdown",
   "metadata": {},
   "source": [
    "### Train set"
   ]
  },
  {
   "cell_type": "code",
   "execution_count": 114,
   "metadata": {},
   "outputs": [
    {
     "name": "stdout",
     "output_type": "stream",
     "text": [
      "Accuracy : 0.73\n"
     ]
    }
   ],
   "source": [
    "result_test = clf_xgb.score(train_x, train_y)\n",
    "print(\"Accuracy : {}\".format(result_test))"
   ]
  },
  {
   "attachments": {},
   "cell_type": "markdown",
   "metadata": {},
   "source": [
    "### Eval set"
   ]
  },
  {
   "cell_type": "code",
   "execution_count": 115,
   "metadata": {},
   "outputs": [
    {
     "name": "stdout",
     "output_type": "stream",
     "text": [
      "Accuracy : 0.8023255813953488\n"
     ]
    }
   ],
   "source": [
    "result_test = clf_xgb.score(eval_x, eval_y)\n",
    "print(\"Accuracy : {}\".format(result_test))"
   ]
  },
  {
   "attachments": {},
   "cell_type": "markdown",
   "metadata": {},
   "source": [
    "# Wnioski\n",
    "\n",
    "Dla breast_cancer accuracy modelu waha się w granicy 0.8. Jest to związane ze słabą jakością zbioru danych.\n",
    "Dla breast_cancer_wisconsin accuracy modelu jest bliskie 100%. Pokazuje to różnicę jakości w zbiorach danych."
   ]
  }
 ],
 "metadata": {
  "kernelspec": {
   "display_name": "Python 3",
   "language": "python",
   "name": "python3"
  },
  "language_info": {
   "codemirror_mode": {
    "name": "ipython",
    "version": 3
   },
   "file_extension": ".py",
   "mimetype": "text/x-python",
   "name": "python",
   "nbconvert_exporter": "python",
   "pygments_lexer": "ipython3",
   "version": "3.9.0"
  },
  "orig_nbformat": 4
 },
 "nbformat": 4,
 "nbformat_minor": 2
}
